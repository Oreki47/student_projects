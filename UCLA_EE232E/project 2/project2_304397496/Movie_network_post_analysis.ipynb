{
 "cells": [
  {
   "cell_type": "code",
   "execution_count": 1,
   "metadata": {
    "collapsed": true
   },
   "outputs": [],
   "source": [
    "# %load my_imports.py\n",
    "import pandas as pd\n",
    "import matplotlib.pyplot as plt\n",
    "import numpy as np\n",
    "import re\n",
    "import csv\n",
    "\n",
    "import datetime\n",
    "import time\n",
    "\n",
    "import json\n",
    "\n"
   ]
  },
  {
   "cell_type": "code",
   "execution_count": 2,
   "metadata": {
    "collapsed": true
   },
   "outputs": [],
   "source": [
    "# Dict writer n reader\n",
    "import csv\n",
    "import re\n",
    "def write_to_file(name, dict_object):\n",
    "    with open(name, 'wb') as csv_file:\n",
    "        writer = csv.writer(csv_file)\n",
    "        for key, value in dict_object.items():\n",
    "           writer.writerow([key, value])\n",
    "        \n",
    "def load_from_file(file_name):\n",
    "    dict_object = {}\n",
    "    df = pd.read_csv(file_name, names = ['key', 'value'])\n",
    "    for idx in df.index:\n",
    "        key = df.key[idx]\n",
    "        value = [int(value) for value in df.value[idx][1:-1].split(',')]\n",
    "        dict_object.update({key: value})\n",
    "    return dict_object\n",
    "\n",
    "def load_lists(file_name):\n",
    "    dict_object = {}\n",
    "    df = pd.read_csv(file_name, names = ['value', 'key'])\n",
    "    for idx in df.index:\n",
    "        dict_object.update({df.key[idx]: df.value[idx]})\n",
    "    return dict_object\n",
    "\n",
    "def load_lists_reversed(file_name):\n",
    "    dict_object = {}\n",
    "    df = pd.read_csv(file_name, names = ['key', 'value'])\n",
    "    for idx in df.index:\n",
    "        dict_object.update({df.key[idx]: df.value[idx]})\n",
    "    return dict_object\n",
    "\n",
    "def load_pagerank(file_name):\n",
    "    dict_object = {}\n",
    "    df = pd.read_csv(file_name, names = ['key', 'value'])\n",
    "    for idx in df.index:\n",
    "        dict_object.update({int(df.key[idx]): df.value[idx]})\n",
    "    return dict_object\n"
   ]
  },
  {
   "cell_type": "code",
   "execution_count": 3,
   "metadata": {
    "collapsed": true
   },
   "outputs": [],
   "source": [
    "# load both index lists\n",
    "movie_list = load_lists('10 networks/movie_dict.csv')\n",
    "# actor_list = load_lists('10 networks/actor_dict.csv')\n",
    "movie_actor_dict_int_int = load_from_file('10 networks/movie_actor_dict_int_int_trimmed.csv')\n",
    "# actor_movie_dict_int_int = load_from_file('10 networks/actor_movie_dict_int_int.csv')\n",
    "# actor_list_reversed = load_lists_reversed('10 networks/actor_dict.csv')\n",
    "movie_list_reversed = load_lists_reversed('10 networks/movie_dict.csv')"
   ]
  },
  {
   "cell_type": "code",
   "execution_count": 4,
   "metadata": {},
   "outputs": [
    {
     "data": {
      "text/plain": [
       "[267804, 415523, 289502]"
      ]
     },
     "execution_count": 4,
     "metadata": {},
     "output_type": "execute_result"
    }
   ],
   "source": [
    "# Find indexes \n",
    "target_movies = ['Batman v Superman: Dawn of Justice (2016)', 'Mission: Impossible - Rogue Nation (2015)', 'Minions (2015)']\n",
    "target_movie_index = [movie_list_reversed[movie] for movie in target_movies]\n",
    "target_movie_index"
   ]
  },
  {
   "cell_type": "code",
   "execution_count": 5,
   "metadata": {},
   "outputs": [
    {
     "data": {
      "text/plain": [
       "113043"
      ]
     },
     "execution_count": 5,
     "metadata": {},
     "output_type": "execute_result"
    }
   ],
   "source": [
    "# load pagerank score\n",
    "page_rank = load_pagerank('others/pagerank.txt')\n",
    "len(page_rank)"
   ]
  },
  {
   "cell_type": "code",
   "execution_count": 6,
   "metadata": {
    "collapsed": true
   },
   "outputs": [],
   "source": [
    "# constuct list of movies that are directed by top 100 director\n",
    "# Turned out This is not a good method as most movies are tainted\n",
    "# use dict instead of df here for speed\n",
    "movie_ratings = {}\n",
    "with open ('movies/movie_rating.txt') as f:\n",
    "    contents = f.readlines()\n",
    "for content in contents:\n",
    "    line = filter(None, re.split(r\"[~\\t\\n]+\", content))\n",
    "    movie_ratings.update({line[0]: float(line[-1])})"
   ]
  },
  {
   "cell_type": "code",
   "execution_count": 7,
   "metadata": {},
   "outputs": [
    {
     "name": "stdout",
     "output_type": "stream",
     "text": [
      "21111\n",
      "105596\n",
      "84485\n"
     ]
    }
   ],
   "source": [
    "# Construct movie rating dataframe\n",
    "# try - except just simply pass key errors\n",
    "movie_int_ratings = {}\n",
    "no_ratings = 0\n",
    "for key in movie_actor_dict_int_int.keys():\n",
    "    try:\n",
    "        movie_int_ratings.update({key: [movie_ratings[movie_list[key]]]})\n",
    "    except: \n",
    "        no_ratings +=1\n",
    "print(no_ratings)\n",
    "print(len(movie_actor_dict_int_int))\n",
    "print(len(movie_int_ratings))"
   ]
  },
  {
   "cell_type": "code",
   "execution_count": 8,
   "metadata": {},
   "outputs": [
    {
     "data": {
      "text/plain": [
       "[3.8]"
      ]
     },
     "execution_count": 8,
     "metadata": {},
     "output_type": "execute_result"
    }
   ],
   "source": [
    "movie_int_ratings[2]"
   ]
  },
  {
   "cell_type": "code",
   "execution_count": 9,
   "metadata": {},
   "outputs": [
    {
     "data": {
      "text/plain": [
       "84485"
      ]
     },
     "execution_count": 9,
     "metadata": {},
     "output_type": "execute_result"
    }
   ],
   "source": [
    "df_movie_ratings = pd.DataFrame.from_dict(movie_int_ratings).transpose()\n",
    "df_movie_ratings.head()\n",
    "len(df_movie_ratings)"
   ]
  },
  {
   "cell_type": "code",
   "execution_count": 10,
   "metadata": {},
   "outputs": [
    {
     "data": {
      "text/html": [
       "<div>\n",
       "<table border=\"1\" class=\"dataframe\">\n",
       "  <thead>\n",
       "    <tr style=\"text-align: right;\">\n",
       "      <th></th>\n",
       "      <th>rating</th>\n",
       "    </tr>\n",
       "  </thead>\n",
       "  <tbody>\n",
       "    <tr>\n",
       "      <th>2</th>\n",
       "      <td>3.8</td>\n",
       "    </tr>\n",
       "    <tr>\n",
       "      <th>3</th>\n",
       "      <td>5.4</td>\n",
       "    </tr>\n",
       "    <tr>\n",
       "      <th>4</th>\n",
       "      <td>7.2</td>\n",
       "    </tr>\n",
       "    <tr>\n",
       "      <th>7</th>\n",
       "      <td>6.2</td>\n",
       "    </tr>\n",
       "    <tr>\n",
       "      <th>9</th>\n",
       "      <td>9.8</td>\n",
       "    </tr>\n",
       "  </tbody>\n",
       "</table>\n",
       "</div>"
      ],
      "text/plain": [
       "   rating\n",
       "2     3.8\n",
       "3     5.4\n",
       "4     7.2\n",
       "7     6.2\n",
       "9     9.8"
      ]
     },
     "execution_count": 10,
     "metadata": {},
     "output_type": "execute_result"
    }
   ],
   "source": [
    "df_movie_ratings.columns = ['rating']\n",
    "df_movie_ratings.head()"
   ]
  },
  {
   "cell_type": "code",
   "execution_count": 11,
   "metadata": {},
   "outputs": [
    {
     "data": {
      "text/html": [
       "<div>\n",
       "<table border=\"1\" class=\"dataframe\">\n",
       "  <thead>\n",
       "    <tr style=\"text-align: right;\">\n",
       "      <th></th>\n",
       "      <th>rating</th>\n",
       "      <th>dir_famous</th>\n",
       "    </tr>\n",
       "  </thead>\n",
       "  <tbody>\n",
       "    <tr>\n",
       "      <th>2</th>\n",
       "      <td>3.8</td>\n",
       "      <td>0</td>\n",
       "    </tr>\n",
       "    <tr>\n",
       "      <th>3</th>\n",
       "      <td>5.4</td>\n",
       "      <td>0</td>\n",
       "    </tr>\n",
       "    <tr>\n",
       "      <th>4</th>\n",
       "      <td>7.2</td>\n",
       "      <td>0</td>\n",
       "    </tr>\n",
       "    <tr>\n",
       "      <th>7</th>\n",
       "      <td>6.2</td>\n",
       "      <td>0</td>\n",
       "    </tr>\n",
       "    <tr>\n",
       "      <th>9</th>\n",
       "      <td>9.8</td>\n",
       "      <td>0</td>\n",
       "    </tr>\n",
       "  </tbody>\n",
       "</table>\n",
       "</div>"
      ],
      "text/plain": [
       "   rating  dir_famous\n",
       "2     3.8           0\n",
       "3     5.4           0\n",
       "4     7.2           0\n",
       "7     6.2           0\n",
       "9     9.8           0"
      ]
     },
     "execution_count": 11,
     "metadata": {},
     "output_type": "execute_result"
    }
   ],
   "source": [
    "df_movie_ratings['dir_famous'] = 0\n",
    "df_movie_ratings.head()"
   ]
  },
  {
   "cell_type": "code",
   "execution_count": 12,
   "metadata": {
    "collapsed": true
   },
   "outputs": [],
   "source": [
    "# Assigning pagerank score to the df\n",
    "page_rank_score = []\n",
    "for movie in df_movie_ratings.index:\n",
    "    pagerank_score = [page_rank[actor] for actor in movie_actor_dict_int_int[movie]]\n",
    "    pagerank_score.sort()\n",
    "#     page_rank_score.append(sum(pagerank_score[:5]))\n",
    "    page_rank_score.append([pagerank_score[:5]])\n",
    "# df_movie_ratings['pagerank'] = page_rank_score"
   ]
  },
  {
   "cell_type": "code",
   "execution_count": 13,
   "metadata": {},
   "outputs": [
    {
     "data": {
      "text/html": [
       "<div>\n",
       "<table border=\"1\" class=\"dataframe\">\n",
       "  <thead>\n",
       "    <tr style=\"text-align: right;\">\n",
       "      <th></th>\n",
       "      <th>rating</th>\n",
       "      <th>dir_famous</th>\n",
       "      <th>0</th>\n",
       "      <th>1</th>\n",
       "      <th>2</th>\n",
       "      <th>3</th>\n",
       "      <th>4</th>\n",
       "    </tr>\n",
       "  </thead>\n",
       "  <tbody>\n",
       "    <tr>\n",
       "      <th>2</th>\n",
       "      <td>3.8</td>\n",
       "      <td>0</td>\n",
       "      <td>0.000005</td>\n",
       "      <td>0.000007</td>\n",
       "      <td>0.000009</td>\n",
       "      <td>0.000009</td>\n",
       "      <td>0.000010</td>\n",
       "    </tr>\n",
       "    <tr>\n",
       "      <th>3</th>\n",
       "      <td>5.4</td>\n",
       "      <td>0</td>\n",
       "      <td>0.000005</td>\n",
       "      <td>0.000005</td>\n",
       "      <td>0.000005</td>\n",
       "      <td>0.000005</td>\n",
       "      <td>0.000005</td>\n",
       "    </tr>\n",
       "    <tr>\n",
       "      <th>4</th>\n",
       "      <td>7.2</td>\n",
       "      <td>0</td>\n",
       "      <td>0.000004</td>\n",
       "      <td>0.000004</td>\n",
       "      <td>0.000005</td>\n",
       "      <td>0.000005</td>\n",
       "      <td>0.000005</td>\n",
       "    </tr>\n",
       "    <tr>\n",
       "      <th>7</th>\n",
       "      <td>6.2</td>\n",
       "      <td>0</td>\n",
       "      <td>0.000005</td>\n",
       "      <td>0.000006</td>\n",
       "      <td>0.000007</td>\n",
       "      <td>0.000009</td>\n",
       "      <td>0.000010</td>\n",
       "    </tr>\n",
       "    <tr>\n",
       "      <th>9</th>\n",
       "      <td>9.8</td>\n",
       "      <td>0</td>\n",
       "      <td>0.000003</td>\n",
       "      <td>0.000003</td>\n",
       "      <td>0.000004</td>\n",
       "      <td>0.000004</td>\n",
       "      <td>0.000006</td>\n",
       "    </tr>\n",
       "  </tbody>\n",
       "</table>\n",
       "</div>"
      ],
      "text/plain": [
       "   rating  dir_famous         0         1         2         3         4\n",
       "2     3.8           0  0.000005  0.000007  0.000009  0.000009  0.000010\n",
       "3     5.4           0  0.000005  0.000005  0.000005  0.000005  0.000005\n",
       "4     7.2           0  0.000004  0.000004  0.000005  0.000005  0.000005\n",
       "7     6.2           0  0.000005  0.000006  0.000007  0.000009  0.000010\n",
       "9     9.8           0  0.000003  0.000003  0.000004  0.000004  0.000006"
      ]
     },
     "execution_count": 13,
     "metadata": {},
     "output_type": "execute_result"
    }
   ],
   "source": [
    "for i in range(5):\n",
    "    page_rank_temp = [score[0][i] for score in page_rank_score]\n",
    "    df_movie_ratings['%d' %i] = page_rank_temp\n",
    "df_movie_ratings.head()"
   ]
  },
  {
   "cell_type": "code",
   "execution_count": 14,
   "metadata": {},
   "outputs": [
    {
     "data": {
      "text/html": [
       "<div>\n",
       "<table border=\"1\" class=\"dataframe\">\n",
       "  <thead>\n",
       "    <tr style=\"text-align: right;\">\n",
       "      <th></th>\n",
       "      <th>rating</th>\n",
       "      <th>dir_famous</th>\n",
       "      <th>0</th>\n",
       "      <th>1</th>\n",
       "      <th>2</th>\n",
       "      <th>3</th>\n",
       "      <th>4</th>\n",
       "    </tr>\n",
       "  </thead>\n",
       "  <tbody>\n",
       "    <tr>\n",
       "      <th>267804</th>\n",
       "      <td>7.1</td>\n",
       "      <td>0.0</td>\n",
       "      <td>0.000004</td>\n",
       "      <td>0.000004</td>\n",
       "      <td>0.000005</td>\n",
       "      <td>0.000005</td>\n",
       "      <td>0.000005</td>\n",
       "    </tr>\n",
       "    <tr>\n",
       "      <th>415523</th>\n",
       "      <td>7.5</td>\n",
       "      <td>0.0</td>\n",
       "      <td>0.000005</td>\n",
       "      <td>0.000005</td>\n",
       "      <td>0.000006</td>\n",
       "      <td>0.000006</td>\n",
       "      <td>0.000006</td>\n",
       "    </tr>\n",
       "    <tr>\n",
       "      <th>289502</th>\n",
       "      <td>6.4</td>\n",
       "      <td>0.0</td>\n",
       "      <td>0.000003</td>\n",
       "      <td>0.000006</td>\n",
       "      <td>0.000006</td>\n",
       "      <td>0.000010</td>\n",
       "      <td>0.000016</td>\n",
       "    </tr>\n",
       "  </tbody>\n",
       "</table>\n",
       "</div>"
      ],
      "text/plain": [
       "        rating  dir_famous         0         1         2         3         4\n",
       "267804     7.1         0.0  0.000004  0.000004  0.000005  0.000005  0.000005\n",
       "415523     7.5         0.0  0.000005  0.000005  0.000006  0.000006  0.000006\n",
       "289502     6.4         0.0  0.000003  0.000006  0.000006  0.000010  0.000016"
      ]
     },
     "execution_count": 14,
     "metadata": {},
     "output_type": "execute_result"
    }
   ],
   "source": [
    "# prepare test set\n",
    "df_target_movie_ratings = df_movie_ratings.ix[target_movie_index]\n",
    "target_rating = {267804:7.1, 415523:7.5, 289502:6.4}\n",
    "for idx in target_movie_index:\n",
    "    df_target_movie_ratings.set_value(idx, 'rating', target_rating[idx])\n",
    "    pagerank_score = [page_rank[actor] for actor in movie_actor_dict_int_int[idx]]\n",
    "    pagerank_score.sort()\n",
    "    for i in range(5):\n",
    "        df_target_movie_ratings.set_value(idx, '%d' %i, pagerank_score[i])\n",
    "    df_target_movie_ratings.set_value(idx, 'dir_famous', 0)\n",
    "df_target_movie_ratings"
   ]
  },
  {
   "cell_type": "code",
   "execution_count": 15,
   "metadata": {
    "collapsed": true
   },
   "outputs": [],
   "source": [
    "# director_dictionary\n",
    "import re\n",
    "with open ('movies/director_movies.txt') as f:\n",
    "    contents = f.readlines()\n",
    "director_dict = {}\n",
    "for content in contents:\n",
    "    line = filter(None, re.split(r\"[~\\t\\n]+\", content))\n",
    "    name = line[0].split('(')[0].rstrip()\n",
    "    director_dict.update({name: line[1:]})"
   ]
  },
  {
   "cell_type": "code",
   "execution_count": 16,
   "metadata": {},
   "outputs": [
    {
     "data": {
      "text/plain": [
       "[\"'Kusare, Mak \", 'I)']"
      ]
     },
     "execution_count": 16,
     "metadata": {},
     "output_type": "execute_result"
    }
   ],
   "source": [
    "filter(None, re.split(r\"[~\\t\\n]+\", contents[6]))[0].split('(')"
   ]
  },
  {
   "cell_type": "code",
   "execution_count": 17,
   "metadata": {
    "collapsed": true
   },
   "outputs": [],
   "source": [
    "# Instead we simply scrapy from the page\n",
    "from urllib import urlopen\n",
    " \n",
    "from bs4 import BeautifulSoup\n",
    "html = urlopen(\"http://www.imdb.com/chart/top\")\n",
    "html_soup = BeautifulSoup(html, 'html.parser')\n",
    "tbody = html_soup.find('tbody', {'class': 'lister-list'})\n",
    "names = tbody.findAll('td', {'class': 'titleColumn'})\n",
    "ratings = tbody.findAll('td', {'class': 'ratingColumn imdbRating'})"
   ]
  },
  {
   "cell_type": "code",
   "execution_count": 18,
   "metadata": {},
   "outputs": [
    {
     "data": {
      "text/html": [
       "<div>\n",
       "<table border=\"1\" class=\"dataframe\">\n",
       "  <thead>\n",
       "    <tr style=\"text-align: right;\">\n",
       "      <th></th>\n",
       "      <th>0</th>\n",
       "      <th>1</th>\n",
       "      <th>2</th>\n",
       "    </tr>\n",
       "  </thead>\n",
       "  <tbody>\n",
       "    <tr>\n",
       "      <th>0</th>\n",
       "      <td>The Shawshank Redemption (1994)</td>\n",
       "      <td>9.2</td>\n",
       "      <td>Frank Darabont</td>\n",
       "    </tr>\n",
       "    <tr>\n",
       "      <th>1</th>\n",
       "      <td>The Godfather (1972)</td>\n",
       "      <td>9.2</td>\n",
       "      <td>Francis Ford Coppola</td>\n",
       "    </tr>\n",
       "    <tr>\n",
       "      <th>2</th>\n",
       "      <td>The Godfather: Part II (1974)</td>\n",
       "      <td>9.0</td>\n",
       "      <td>Francis Ford Coppola</td>\n",
       "    </tr>\n",
       "    <tr>\n",
       "      <th>3</th>\n",
       "      <td>The Dark Knight (2008)</td>\n",
       "      <td>8.9</td>\n",
       "      <td>Christopher Nolan</td>\n",
       "    </tr>\n",
       "    <tr>\n",
       "      <th>4</th>\n",
       "      <td>12 Angry Men (1957)</td>\n",
       "      <td>8.9</td>\n",
       "      <td>Sidney Lumet</td>\n",
       "    </tr>\n",
       "  </tbody>\n",
       "</table>\n",
       "</div>"
      ],
      "text/plain": [
       "                                 0    1                     2\n",
       "0  The Shawshank Redemption (1994)  9.2        Frank Darabont\n",
       "1             The Godfather (1972)  9.2  Francis Ford Coppola\n",
       "2    The Godfather: Part II (1974)  9.0  Francis Ford Coppola\n",
       "3           The Dark Knight (2008)  8.9     Christopher Nolan\n",
       "4              12 Angry Men (1957)  8.9          Sidney Lumet"
      ]
     },
     "execution_count": 18,
     "metadata": {},
     "output_type": "execute_result"
    }
   ],
   "source": [
    "# Construct a top-250 list from here\n",
    "import shlex\n",
    "movie_rating_top_250 = pd.DataFrame()\n",
    "for name, rating in zip(names, ratings):\n",
    "    movie_name = re.split(r\"[~<>\\n]+\", str(name))[5] + ' ' + re.split(r\"[~<>\\n]+\", str(name))[8]\n",
    "    movie_rating = re.split(r\"[~<>\\n]+\", str(rating))[3]\n",
    "    # This is by trail and error easy one-liner\n",
    "    movie_director = str.rstrip(re.split(r\"[~=()]+\",shlex.split(re.split(r\"[~<>\\n]+\", str(name))[4])[2].split(',')[0])[1])\n",
    "    movie_rating_top_250 = movie_rating_top_250.append([[movie_name, movie_rating, movie_director]])\n",
    "movie_rating_top_250.reset_index(inplace=True, drop=True)\n",
    "movie_rating_top_250.head()"
   ]
  },
  {
   "cell_type": "code",
   "execution_count": 19,
   "metadata": {
    "collapsed": true
   },
   "outputs": [],
   "source": [
    "# Instead of creating another director list,\n",
    "# what we can do is do a counting till we have 100 directors,\n",
    "# and tags all movies examined so far.\n",
    "def movies_by_100_dir(seq):\n",
    "    keys = {}\n",
    "    count = 0\n",
    "    for e in seq:\n",
    "        count += 1\n",
    "        keys[e] = 1\n",
    "        if len(keys) == 100:\n",
    "            break\n",
    "    return count, keys.keys()\n",
    "counts, directors = movies_by_100_dir(movie_rating_top_250[2])"
   ]
  },
  {
   "cell_type": "code",
   "execution_count": 20,
   "metadata": {
    "collapsed": true
   },
   "outputs": [],
   "source": [
    "# Off 166 movies by 100 dir,\n",
    "# 38 of them are not on the list\n",
    "df_movie_ratings['dir_famous'].value_counts()\n",
    "df_movie_ratings.to_csv('ratings/ratings_raw.csv', header = 1, index = 1)\n",
    "\n",
    "# df_movie_ratings = pd.read_csv('ratings/ratings_raw.csv')\n",
    "# df_movie_ratings = df_movie_ratings.set_index(\"Unnamed: 0\")\n",
    "# del df_movie_ratings.index.name\n",
    "# df_movie_ratings.head(3)"
   ]
  },
  {
   "cell_type": "code",
   "execution_count": 21,
   "metadata": {},
   "outputs": [
    {
     "name": "stdout",
     "output_type": "stream",
     "text": [
      "movie counts: 1052\n",
      "director counts: 90\n"
     ]
    }
   ],
   "source": [
    "# map directors into 1 column\n",
    "movie_counts = 0\n",
    "director_counts = 0\n",
    "for director in directors:\n",
    "    rename = director.split(' ')\n",
    "    name = rename[1] + ', ' + rename[0]\n",
    "    if name in director_dict.keys():\n",
    "        director_counts = director_counts + 1\n",
    "        for movie in director_dict[name]:\n",
    "            if movie in movie_list_reversed:\n",
    "                if movie_list_reversed[movie] in df_movie_ratings.index:\n",
    "                    df_movie_ratings.set_value(movie_list_reversed[movie], 'dir_famous', 1)\n",
    "                    movie_counts = movie_counts + 1\n",
    "\n",
    "print (\"movie counts: %d\" %movie_counts)\n",
    "print (\"director counts: %d\" %director_counts)"
   ]
  },
  {
   "cell_type": "code",
   "execution_count": 22,
   "metadata": {
    "collapsed": true
   },
   "outputs": [],
   "source": [
    "df_movie_ratings.to_csv('ratings/movie_rating_single.csv', header = 1, index = 1)"
   ]
  },
  {
   "cell_type": "code",
   "execution_count": 23,
   "metadata": {
    "collapsed": true
   },
   "outputs": [],
   "source": [
    "# define fitting functions\n",
    "import sklearn.model_selection as sms\n",
    "from sklearn.svm import SVR\n",
    "from sklearn.linear_model import SGDRegressor\n",
    "import matplotlib.pyplot as plt\n",
    "\n",
    "def fit_sgd(df_fit, df_predict, features):\n",
    "    X = df_fit[features]\n",
    "    y = df_fit['rating']\n",
    "    sgd_l2 = SGDRegressor(loss='huber', penalty='l2')\n",
    "    X_test = df_predict[features]\n",
    "    y_real = df_predict['rating']\n",
    "    print('fitting started')\n",
    "    start_time = time.time()\n",
    "    clf = sgd_l2.fit(X, y)\n",
    "    print('fitting complete. Time used: %d' %(time.time() - start_time))\n",
    "    y_test = sgd_l2.predict(X_test)\n",
    "    print ('cross validation: %f' %clf.score(X_test, y_test))\n",
    "    return y_test, y_real"
   ]
  },
  {
   "cell_type": "code",
   "execution_count": 24,
   "metadata": {
    "collapsed": true
   },
   "outputs": [],
   "source": [
    "import datetime\n",
    "import time\n",
    "from sklearn.model_selection import learning_curve\n",
    "from sklearn import linear_model as lm\n",
    "from sklearn.metrics import mean_squared_error\n",
    "from math import sqrt\n",
    "\n",
    "def plot_learning_curve(estimator, title, file_dir, X, y, ylim=None, cv=None,\n",
    "                        train_sizes=np.linspace(.1, 1.0, 5)):\n",
    "    plt.figure()\n",
    "    train_sizes, train_scores, test_scores = learning_curve(\n",
    "        estimator, X, y, cv=5, n_jobs=1, train_sizes=train_sizes)\n",
    "    train_scores_mean = np.mean(train_scores, axis=1)\n",
    "    train_scores_std = np.std(train_scores, axis=1)\n",
    "    test_scores_mean = np.mean(test_scores, axis=1)\n",
    "    test_scores_std = np.std(test_scores, axis=1)\n",
    "\n",
    "    plt.fill_between(train_sizes, train_scores_mean - train_scores_std,\n",
    "                     train_scores_mean + train_scores_std, alpha=0.1,\n",
    "                     color=\"r\")\n",
    "    plt.fill_between(train_sizes, test_scores_mean - test_scores_std,\n",
    "                     test_scores_mean + test_scores_std, alpha=0.1, color=\"g\")\n",
    "    plt.plot(train_sizes, train_scores_mean, 'o-', color=\"r\",\n",
    "             label=\"Training score\")\n",
    "    plt.plot(train_sizes, test_scores_mean, 'o-', color=\"g\",\n",
    "             label=\"Cross-validation score\")\n",
    "\n",
    "    plt.xlabel(\"Training examples\")\n",
    "    plt.ylabel(\"Score\")\n",
    "    plt.legend(loc=\"best\")\n",
    "    plt.grid(\"on\")\n",
    "    if ylim:\n",
    "        plt.ylim(ylim)\n",
    "    plt.title(title)\n",
    "    plt.savefig(file_dir, dpi = 800)"
   ]
  },
  {
   "cell_type": "code",
   "execution_count": 25,
   "metadata": {},
   "outputs": [
    {
     "name": "stdout",
     "output_type": "stream",
     "text": [
      "fitting started\n",
      "fitting complete. Time used: 0\n",
      "cross validation: 1.000000\n",
      "mse: 1.414614\n",
      "aver: 0.109989\n",
      "armse: 1.189376\n"
     ]
    }
   ],
   "source": [
    "# Learning Curve\n",
    "features = ['0', '1', '2', '3', '4']\n",
    "sgd = SGDRegressor(loss='huber', penalty='l2')\n",
    "X = df_movie_ratings[features]\n",
    "y = df_movie_ratings['rating']\n",
    "plt.savefig('pg01.jpg')\n",
    "plot_learning_curve(sgd, 'Page Rank Score Only', 'pg01.jpg', X, y)\n",
    "# Cross Validation\n",
    "train, test = sms.train_test_split(df_movie_ratings, test_size=0.4, random_state=int(time.time()))\n",
    "y_pred, y_real = fit_sgd(train.sort_index(), test.sort_index(), features=features)\n",
    "print ('mse: %f' %mean_squared_error(y_real, y_pred))\n",
    "print ('aver: %f' %np.mean(y_pred - y_real))\n",
    "print ('armse: %f' %sqrt(mean_squared_error(y_real, y_pred)))"
   ]
  },
  {
   "cell_type": "code",
   "execution_count": 65,
   "metadata": {},
   "outputs": [
    {
     "name": "stdout",
     "output_type": "stream",
     "text": [
      "fitting started\n",
      "fitting complete. Time used: 0\n",
      "cross validation: 1.000000\n"
     ]
    },
    {
     "data": {
      "text/plain": [
       "array([ 6.15722109,  6.15722109,  6.15722109])"
      ]
     },
     "execution_count": 65,
     "metadata": {},
     "output_type": "execute_result"
    }
   ],
   "source": [
    "# Actual Rating Model 1\n",
    "y_pred, y_real = fit_sgd(train.sort_index(), df_target_movie_ratings.sort_index(), features=features)\n",
    "y_pred"
   ]
  },
  {
   "cell_type": "code",
   "execution_count": 68,
   "metadata": {},
   "outputs": [
    {
     "name": "stdout",
     "output_type": "stream",
     "text": [
      "fitting started\n",
      "fitting complete. Time used: 0\n",
      "cross validation: 1.000000\n",
      "mse: 1.427424\n",
      "aver: 0.120511\n",
      "armse: 1.194749\n"
     ]
    }
   ],
   "source": [
    "# Learning Curve\n",
    "features = ['0', '1', '2', '3', '4', 'dir_famous']\n",
    "sgd = SGDRegressor(loss='huber', penalty='l2')\n",
    "X = df_movie_ratings[features]\n",
    "y = df_movie_ratings['rating']\n",
    "plt.savefig('pg01.jpg')\n",
    "plot_learning_curve(sgd, 'Page Rank Score Only', 'pg02.jpg', X, y)\n",
    "# Cross Validation\n",
    "train, test = sms.train_test_split(df_movie_ratings, test_size=0.4, random_state=int(time.time()))\n",
    "y_pred, y_real = fit_sgd(train.sort_index(), test.sort_index(), features=features)\n",
    "print ('mse: %f' %mean_squared_error(y_real, y_pred))\n",
    "print ('aver: %f' %np.mean(y_pred - y_real))\n",
    "print ('armse: %f' %sqrt(mean_squared_error(y_real, y_pred)))"
   ]
  },
  {
   "cell_type": "code",
   "execution_count": 70,
   "metadata": {},
   "outputs": [
    {
     "name": "stdout",
     "output_type": "stream",
     "text": [
      "fitting started\n",
      "fitting complete. Time used: 0\n",
      "cross validation: 1.000000\n"
     ]
    },
    {
     "data": {
      "text/plain": [
       "array([ 6.17290303,  6.17290303,  6.17290303])"
      ]
     },
     "execution_count": 70,
     "metadata": {},
     "output_type": "execute_result"
    }
   ],
   "source": [
    "# Actual Rating Model 2\n",
    "y_pred, y_real = fit_sgd(train.sort_index(), df_target_movie_ratings.sort_index(), features=features)\n",
    "y_pred"
   ]
  },
  {
   "cell_type": "code",
   "execution_count": 71,
   "metadata": {
    "collapsed": true
   },
   "outputs": [],
   "source": [
    "target_dummy = pd.get_dummies(df_target_movie_ratings.dir_famous)\n",
    "target_dummy.columns = ['dir_not_famous']\n",
    "movie_dummy = pd.get_dummies(df_movie_ratings.dir_famous)\n",
    "movie_dummy.columns = ['dir_not_famous', 'dir_famous']\n",
    "df_target_movie_ratings = pd.concat([df_target_movie_ratings, target_dummy], axis=1)\n",
    "df_movie_ratings = pd.concat([df_movie_ratings, movie_dummy.dir_not_famous], axis=1)"
   ]
  },
  {
   "cell_type": "code",
   "execution_count": 75,
   "metadata": {},
   "outputs": [
    {
     "name": "stdout",
     "output_type": "stream",
     "text": [
      "fitting started\n",
      "fitting complete. Time used: 0\n",
      "cross validation: 1.000000\n",
      "mse: 1.595977\n",
      "aver: 0.081992\n",
      "armse: 1.263320\n"
     ]
    }
   ],
   "source": [
    "# Learning Curve\n",
    "features = ['0', '1', '2', '3', '4', 'dir_famous', 'dir_not_famous']\n",
    "sgd = SGDRegressor(loss='huber', penalty='l2')\n",
    "X = df_movie_ratings[features]\n",
    "y = df_movie_ratings['rating']\n",
    "plt.savefig('pg01.jpg')\n",
    "plot_learning_curve(sgd, 'Page Rank Score Only', 'pg02.jpg', X, y)\n",
    "# Cross Validation\n",
    "train, test = sms.train_test_split(df_movie_ratings, test_size=0.4, random_state=int(time.time()))\n",
    "y_pred, y_real = fit_sgd(train.sort_index(), test.sort_index(), features=features)\n",
    "print ('mse: %f' %mean_squared_error(y_real, y_pred))\n",
    "print ('aver: %f' %np.mean(y_pred - y_real))\n",
    "print ('armse: %f' %sqrt(mean_squared_error(y_real, y_pred)))"
   ]
  },
  {
   "cell_type": "code",
   "execution_count": 74,
   "metadata": {},
   "outputs": [
    {
     "name": "stdout",
     "output_type": "stream",
     "text": [
      "fitting started\n",
      "fitting complete. Time used: 0\n",
      "cross validation: 1.000000\n"
     ]
    },
    {
     "data": {
      "text/plain": [
       "array([ 6.15751179,  6.15751179,  6.15751179])"
      ]
     },
     "execution_count": 74,
     "metadata": {},
     "output_type": "execute_result"
    }
   ],
   "source": [
    "# Actual Rating Model 3\n",
    "y_pred, y_real = fit_sgd(train.sort_index(), df_target_movie_ratings.sort_index(), features=features)\n",
    "y_pred"
   ]
  },
  {
   "cell_type": "code",
   "execution_count": 80,
   "metadata": {},
   "outputs": [
    {
     "name": "stdout",
     "output_type": "stream",
     "text": [
      "movie counts: 1052\n",
      "director counts: 90\n"
     ]
    }
   ],
   "source": [
    "# map directors into 100 column\n",
    "movie_counts = 0\n",
    "director_counts = 0\n",
    "features = []\n",
    "for director in directors:\n",
    "    rename = director.split(' ')\n",
    "    name = rename[1] + ', ' + rename[0]\n",
    "    if name in director_dict.keys():\n",
    "        director_counts = director_counts + 1\n",
    "        for movie in director_dict[name]:\n",
    "            if movie in movie_list_reversed:\n",
    "                if movie_list_reversed[movie] in df_movie_ratings.index:\n",
    "                    df_movie_ratings.set_value(movie_list_reversed[movie], name, 1)\n",
    "                    movie_counts = movie_counts + 1\n",
    "                    features.append(name)\n",
    "features = list(set(features))\n",
    "df_movie_ratings.fillna(0, inplace=1)\n",
    "print (\"movie counts: %d\" %movie_counts)\n",
    "print (\"director counts: %d\" %director_counts)"
   ]
  },
  {
   "cell_type": "code",
   "execution_count": 81,
   "metadata": {
    "collapsed": true
   },
   "outputs": [],
   "source": [
    "for director in features:\n",
    "    df_target_movie_ratings[director] = 0"
   ]
  },
  {
   "cell_type": "code",
   "execution_count": 82,
   "metadata": {},
   "outputs": [
    {
     "name": "stdout",
     "output_type": "stream",
     "text": [
      "fitting started\n",
      "fitting complete. Time used: 0\n",
      "cross validation: 1.000000\n",
      "mse: 1.412056\n",
      "aver: 0.114583\n",
      "armse: 1.188299\n"
     ]
    }
   ],
   "source": [
    "#93 features\n",
    "features.extend(['0', '1', '2', '3', '4'])\n",
    "sgd = SGDRegressor(loss='huber', penalty='l2')\n",
    "X = df_movie_ratings[features]\n",
    "y = df_movie_ratings['rating']\n",
    "plt.savefig('pg01.jpg')\n",
    "plot_learning_curve(sgd, 'Page Rank Score Only', 'pg02.jpg', X, y)\n",
    "# Cross Validation\n",
    "train, test = sms.train_test_split(df_movie_ratings, test_size=0.4, random_state=int(time.time()))\n",
    "y_pred, y_real = fit_sgd(train.sort_index(), test.sort_index(), features=features)\n",
    "print ('mse: %f' %mean_squared_error(y_real, y_pred))\n",
    "print ('aver: %f' %np.mean(y_pred - y_real))\n",
    "print ('armse: %f' %sqrt(mean_squared_error(y_real, y_pred)))"
   ]
  },
  {
   "cell_type": "code",
   "execution_count": 83,
   "metadata": {},
   "outputs": [
    {
     "name": "stdout",
     "output_type": "stream",
     "text": [
      "fitting started\n",
      "fitting complete. Time used: 0\n",
      "cross validation: 1.000000\n"
     ]
    },
    {
     "data": {
      "text/plain": [
       "array([ 6.16009448,  6.16009448,  6.16009448])"
      ]
     },
     "execution_count": 83,
     "metadata": {},
     "output_type": "execute_result"
    }
   ],
   "source": [
    "# Actual Rating\n",
    "y_pred, y_real = fit_sgd(train.sort_index(), df_target_movie_ratings.sort_index(), features=features)\n",
    "y_pred"
   ]
  },
  {
   "cell_type": "code",
   "execution_count": null,
   "metadata": {
    "collapsed": true
   },
   "outputs": [],
   "source": []
  }
 ],
 "metadata": {
  "kernelspec": {
   "display_name": "Python 2",
   "language": "python",
   "name": "python2"
  },
  "language_info": {
   "codemirror_mode": {
    "name": "ipython",
    "version": 2
   },
   "file_extension": ".py",
   "mimetype": "text/x-python",
   "name": "python",
   "nbconvert_exporter": "python",
   "pygments_lexer": "ipython2",
   "version": "2.7.13"
  }
 },
 "nbformat": 4,
 "nbformat_minor": 2
}
