{
 "cells": [
  {
   "cell_type": "code",
   "execution_count": 4,
   "metadata": {
    "collapsed": true
   },
   "outputs": [],
   "source": [
    "# %load my_imports.py\n",
    "import pandas as pd\n",
    "import matplotlib.pyplot as plt\n",
    "import numpy as np\n",
    "\n",
    "import datetime\n",
    "import time\n",
    "\n",
    "import json\n",
    "\n"
   ]
  },
  {
   "cell_type": "code",
   "execution_count": 76,
   "metadata": {},
   "outputs": [],
   "source": [
    "# Dict writer n reader\n",
    "import csv\n",
    "def write_to_file(name, dict_object):\n",
    "    with open(name, 'wb') as csv_file:\n",
    "        writer = csv.writer(csv_file)\n",
    "        for key, value in dict_object.items():\n",
    "           writer.writerow([key, value])\n",
    "        \n",
    "def load_from_file(file_name):\n",
    "    dict_object = {}\n",
    "    df = pd.read_csv(file_name, names = ['key', 'value'])\n",
    "    for idx in df.index:\n",
    "        key = df.key[idx]\n",
    "        value = [int(value) for value in df.value[idx][1:-1].split(',')]\n",
    "        dict_object.update({key: value})\n",
    "    return dict_object\n",
    "\n",
    "def load_lists(file_name):\n",
    "    dict_object = {}\n",
    "    df = pd.read_csv(file_name, names = ['value', 'key'])\n",
    "    for idx in df.index:\n",
    "        dict_object.update({df.key[idx]: df.value[idx]})\n",
    "    return dict_object\n",
    "\n",
    "def load_lists_reversed(file_name):\n",
    "    dict_object = {}\n",
    "    df = pd.read_csv(file_name, names = ['key', 'value'])\n",
    "    for idx in df.index:\n",
    "        dict_object.update({df.key[idx]: df.value[idx]})\n",
    "    return dict_object"
   ]
  },
  {
   "cell_type": "code",
   "execution_count": 77,
   "metadata": {},
   "outputs": [],
   "source": [
    "# load both index lists\n",
    "movie_list = load_lists('10 networks/movie_dict.csv')\n",
    "actor_list = load_lists('10 networks/actor_dict.csv')\n",
    "movie_actor_dict_int_int = load_from_file('10 networks/movie_actor_dict_int_int.csv')\n",
    "actor_movie_dict_int_int = load_from_file('10 networks/actor_movie_dict_int_int.csv')\n",
    "actor_list_reversed = load_lists_reversed('10 networks/actor_dict.csv')\n",
    "movie_list_reversed = load_lists_reversed('10 networks/movie_dict.csv')"
   ]
  },
  {
   "cell_type": "code",
   "execution_count": 66,
   "metadata": {},
   "outputs": [
    {
     "data": {
      "text/plain": [
       "['Flowers, Bess',\n",
       " 'Tatasciore, Fred',\n",
       " 'Harris, Sam (II)',\n",
       " 'Blum, Steve (IX)',\n",
       " 'Miller, Harold (I)',\n",
       " 'Jeremy, Ron',\n",
       " 'Lowenthal, Yuri',\n",
       " 'Phelps, Lee (I)',\n",
       " 'Downes, Robin Atkin',\n",
       " \"O'Connor, Frank (I)\"]"
      ]
     },
     "execution_count": 66,
     "metadata": {},
     "output_type": "execute_result"
    }
   ],
   "source": [
    "# find out 10 actors names\n",
    "with open ('max_10.txt') as f:\n",
    "    contents = f.readlines()\n",
    "max_10 = [int(filter(None, re.split(r\"[~,\\n]+\", content))[0][1:-1]) for content in contents[1:]]\n",
    "max_10_names = [actor_list[idx] for idx in max_10]\n",
    "max_10_names"
   ]
  },
  {
   "cell_type": "code",
   "execution_count": 67,
   "metadata": {},
   "outputs": [
    {
     "data": {
      "text/plain": [
       "[828, 355, 600, 373, 561, 637, 318, 647, 267, 623]"
      ]
     },
     "execution_count": 67,
     "metadata": {},
     "output_type": "execute_result"
    }
   ],
   "source": [
    "# corresponding connections\n",
    "max_10_connetions = [len(actor_movie_dict_int_int[idx]) for idx in max_10]\n",
    "max_10_connetions"
   ]
  },
  {
   "cell_type": "code",
   "execution_count": 75,
   "metadata": {},
   "outputs": [
    {
     "data": {
      "text/plain": [
       "[0.000235015702917476,\n",
       " 0.000201889264372718,\n",
       " 0.000197100678403254,\n",
       " 0.000195665837775062,\n",
       " 0.000172625729102996,\n",
       " 0.000158376395151861,\n",
       " 0.000157460115934523,\n",
       " 0.000157249101445281,\n",
       " 0.000152152426842736,\n",
       " 0.00014688714583394]"
      ]
     },
     "execution_count": 75,
     "metadata": {},
     "output_type": "execute_result"
    }
   ],
   "source": [
    "max_10_val = [float(filter(None, re.split(r\"[~,\\n]+\", content))[1]) for content in contents[1:]]\n",
    "max_10_val"
   ]
  },
  {
   "cell_type": "code",
   "execution_count": 87,
   "metadata": {},
   "outputs": [
    {
     "data": {
      "text/plain": [
       "['29740',\n",
       " '13719',\n",
       " '46856',\n",
       " '74894',\n",
       " '42814',\n",
       " '113030',\n",
       " '30534',\n",
       " '35587',\n",
       " '17009',\n",
       " '30930']"
      ]
     },
     "execution_count": 87,
     "metadata": {},
     "output_type": "execute_result"
    }
   ],
   "source": [
    "# list of 10 famous\n",
    "famous_10_names = ['Hanks, Tom', 'DiCaprio, Leonardo', 'Freeman, Morgan (I)', 'Smith, Will (I)', 'Portman, Natalie',\n",
    "             'Clooney, George', 'Damon, Matt', 'Roberts, Julia (I)', 'Pacino, Al (I)', 'Williams, Robin (I)']\n",
    "famous_10 = [str(actor_list_reversed[actor]) for actor in famous_10_names]\n",
    "famous_10"
   ]
  },
  {
   "cell_type": "code",
   "execution_count": 84,
   "metadata": {},
   "outputs": [
    {
     "data": {
      "text/plain": [
       "[80, 49, 122, 49, 57, 67, 85, 58, 76, 101]"
      ]
     },
     "execution_count": 84,
     "metadata": {},
     "output_type": "execute_result"
    }
   ],
   "source": [
    "famous_10_conntection = [len(actor_movie_dict_int_int[idx]) for idx in famous_10]\n",
    "famous_10_conntection"
   ]
  },
  {
   "cell_type": "code",
   "execution_count": null,
   "metadata": {
    "collapsed": true
   },
   "outputs": [],
   "source": []
  }
 ],
 "metadata": {
  "kernelspec": {
   "display_name": "Python 2",
   "language": "python",
   "name": "python2"
  },
  "language_info": {
   "codemirror_mode": {
    "name": "ipython",
    "version": 2
   },
   "file_extension": ".py",
   "mimetype": "text/x-python",
   "name": "python",
   "nbconvert_exporter": "python",
   "pygments_lexer": "ipython2",
   "version": "2.7.13"
  }
 },
 "nbformat": 4,
 "nbformat_minor": 2
}
