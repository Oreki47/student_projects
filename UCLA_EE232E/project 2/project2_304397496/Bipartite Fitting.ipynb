{
 "cells": [
  {
   "cell_type": "code",
   "execution_count": 1,
   "metadata": {
    "collapsed": true
   },
   "outputs": [],
   "source": [
    "# %load my_imports.py\n",
    "import pandas as pd\n",
    "import matplotlib.pyplot as plt\n",
    "import numpy as np\n",
    "import re\n",
    "import csv\n",
    "\n",
    "import datetime\n",
    "import time\n",
    "\n",
    "import json\n",
    "\n"
   ]
  },
  {
   "cell_type": "code",
   "execution_count": 2,
   "metadata": {
    "collapsed": true
   },
   "outputs": [],
   "source": [
    "# Dict writer n reader\n",
    "def write_to_file(name, dict_object):\n",
    "    with open(name, 'wb') as csv_file:\n",
    "        writer = csv.writer(csv_file)\n",
    "        for key, value in dict_object.items():\n",
    "           writer.writerow([key, value])\n",
    "        \n",
    "def load_from_file(file_name):\n",
    "    dict_object = {}\n",
    "    df = pd.read_csv(file_name, names = ['key', 'value'])\n",
    "    for idx in df.index:\n",
    "        key = df.key[idx]\n",
    "        value = [int(value) for value in df.value[idx][1:-1].split(',')]\n",
    "        dict_object.update({key: value})\n",
    "    return dict_object\n",
    "\n",
    "def load_lists(file_name):\n",
    "    dict_object = {}\n",
    "    df = pd.read_csv(file_name, names = ['value', 'key'])\n",
    "    for idx in df.index:\n",
    "        dict_object.update({df.key[idx]: df.value[idx]})\n",
    "    return dict_object\n",
    "\n",
    "def load_lists_reversed(file_name):\n",
    "    dict_object = {}\n",
    "    df = pd.read_csv(file_name, names = ['key', 'value'])\n",
    "    for idx in df.index:\n",
    "        dict_object.update({df.key[idx]: df.value[idx]})\n",
    "    return dict_object\n",
    "\n",
    "def load_pagerank(file_name):\n",
    "    dict_object = {}\n",
    "    df = pd.read_csv(file_name, names = ['key', 'value'])\n",
    "    for idx in df.index:\n",
    "        dict_object.update({int(df.key[idx]): df.value[idx]})\n",
    "    return dict_object\n"
   ]
  },
  {
   "cell_type": "code",
   "execution_count": 3,
   "metadata": {},
   "outputs": [],
   "source": [
    "# load both index lists\n",
    "movie_list = load_lists('10 networks/movie_dict.csv')\n",
    "actor_list = load_lists('10 networks/actor_dict.csv')\n",
    "movie_actor_dict_int_int = load_from_file('10 networks/movie_actor_dict_int_int_trimmed.csv')\n",
    "actor_movie_dict_int_int = load_from_file('10 networks/actor_movie_dict_int_int_trimmed.csv')\n",
    "actor_list_reversed = load_lists_reversed('10 networks/actor_dict.csv')\n",
    "movie_list_reversed = load_lists_reversed('10 networks/movie_dict.csv')"
   ]
  },
  {
   "cell_type": "code",
   "execution_count": 4,
   "metadata": {},
   "outputs": [
    {
     "data": {
      "text/plain": [
       "[267804, 415523, 289502]"
      ]
     },
     "execution_count": 4,
     "metadata": {},
     "output_type": "execute_result"
    }
   ],
   "source": [
    "# Find indexes \n",
    "target_movies = ['Batman v Superman: Dawn of Justice (2016)', 'Mission: Impossible - Rogue Nation (2015)', 'Minions (2015)']\n",
    "target_movie_index = [movie_list_reversed[movie] for movie in target_movies]\n",
    "target_movie_index"
   ]
  },
  {
   "cell_type": "code",
   "execution_count": 5,
   "metadata": {},
   "outputs": [
    {
     "name": "stdout",
     "output_type": "stream",
     "text": [
      "21111\n",
      "105596\n",
      "84485\n"
     ]
    }
   ],
   "source": [
    "# load movie ratings\n",
    "movie_ratings = {}\n",
    "with open ('movies/movie_rating.txt') as f:\n",
    "    contents = f.readlines()\n",
    "for content in contents:\n",
    "    line = filter(None, re.split(r\"[~\\t\\n]+\", content))\n",
    "    movie_ratings.update({line[0]: float(line[-1])})\n",
    "    \n",
    "movie_int_ratings = {}\n",
    "no_ratings = 0\n",
    "for key in movie_actor_dict_int_int.keys():\n",
    "    try:\n",
    "        movie_int_ratings.update({key: [movie_ratings[movie_list[key]]]})\n",
    "    except: \n",
    "        no_ratings +=1\n",
    "print(no_ratings)\n",
    "print(len(movie_actor_dict_int_int))\n",
    "print(len(movie_int_ratings))"
   ]
  },
  {
   "cell_type": "code",
   "execution_count": 6,
   "metadata": {},
   "outputs": [],
   "source": [
    "# This is simple and can be partitioned into two steps\n",
    "# Step 1: create a dict that assigns score to each actor/actress\n",
    "# actor_rating_counts: number of movie ratings to be counted in actor\n",
    "# actor list and actor_movie_dict mismatch since I did not generate a trimmed actor/movie list\n",
    "def construct_actor_ratings(movie_rating_counts, actor_list=actor_list, actor_movie_dict_int_int=actor_movie_dict_int_int,\n",
    "                           movie_int_ratings=movie_int_ratings):\n",
    "    actor_ratings = {}\n",
    "    for actor in actor_list.keys():\n",
    "        ratings = []\n",
    "        try:\n",
    "            for movie in actor_movie_dict_int_int[actor]:\n",
    "                ratings.append(movie_int_ratings[movie][0])\n",
    "            if len(ratings) == 1:\n",
    "                rating_score = ratings[0]\n",
    "            elif len(ratings) == 0:\n",
    "                rating_score = 0\n",
    "            else: \n",
    "                ratings.sort()\n",
    "                rating_score = np.mean(ratings[:movie_rating_counts])\n",
    "            actor_ratings.update({actor: round(rating_score, 1)})\n",
    "        except:\n",
    "            pass\n",
    "    return actor_ratings"
   ]
  },
  {
   "cell_type": "code",
   "execution_count": 7,
   "metadata": {},
   "outputs": [],
   "source": [
    "# Step 2 \n",
    "# movie_rating_counts: number of actors ratings to be counted in movie\n",
    "def construct_movie_ratings(actor_rating_counts, movie_actor_dict_int_int=movie_actor_dict_int_int,\n",
    "                           actor_list=actor_list, movie_list=movie_list):\n",
    "    movie_rating_predicted = {}\n",
    "    for movie in movie_list.keys():\n",
    "        ratings = []\n",
    "        rating_score = 0\n",
    "        try:\n",
    "            for actor in movie_actor_dict_int_int[movie]:\n",
    "                ratings.append(actor_ratings[actor])\n",
    "            if len(ratings) == 1:\n",
    "                rating_score = ratings[0]\n",
    "            elif len(ratings) == 0:\n",
    "                rating_score = 0\n",
    "            else: \n",
    "                ratings.sort()\n",
    "                rating_score = np.mean(ratings[:actor_rating_counts])\n",
    "            movie_rating_predicted.update({movie: round(rating_score, 1)})\n",
    "        except: pass\n",
    "    return movie_rating_predicted"
   ]
  },
  {
   "cell_type": "code",
   "execution_count": 8,
   "metadata": {},
   "outputs": [],
   "source": [
    "from sklearn.metrics import mean_squared_error\n",
    "from math import sqrt\n",
    "def simple_analysis(movie_rating_predicted, \n",
    "                    movie_int_ratings=movie_int_ratings):\n",
    "    y_real = []\n",
    "    y_pred = []\n",
    "    for movie in movie_int_ratings.keys():\n",
    "        try:\n",
    "            y_pred.append(movie_rating_predicted[movie])\n",
    "            y_real.append(movie_int_ratings[movie])\n",
    "        except: pass\n",
    "    mse = mean_squared_error(y_real, y_pred)\n",
    "    me = np.mean(y_real)-np.mean(y_pred)\n",
    "    armse = sqrt(mse)\n",
    "    return mse, me, armse"
   ]
  },
  {
   "cell_type": "code",
   "execution_count": 10,
   "metadata": {},
   "outputs": [
    {
     "name": "stdout",
     "output_type": "stream",
     "text": [
      "movie: 1, actor: 1\n",
      "movie: 1, actor: 2\n",
      "movie: 1, actor: 3\n",
      "movie: 1, actor: 4\n",
      "movie: 1, actor: 5\n",
      "movie: 1, actor: 6\n",
      "movie: 1, actor: 7\n",
      "movie: 1, actor: 8\n",
      "movie: 1, actor: 9\n",
      "movie: 1, actor: 10\n",
      "movie: 1, actor: -1\n",
      "movie: 2, actor: 1\n",
      "movie: 2, actor: 2\n",
      "movie: 2, actor: 3\n",
      "movie: 2, actor: 4\n",
      "movie: 2, actor: 5\n",
      "movie: 2, actor: 6\n",
      "movie: 2, actor: 7\n",
      "movie: 2, actor: 8\n",
      "movie: 2, actor: 9\n",
      "movie: 2, actor: 10\n",
      "movie: 2, actor: -1\n",
      "movie: 3, actor: 1\n",
      "movie: 3, actor: 2\n",
      "movie: 3, actor: 3\n",
      "movie: 3, actor: 4\n",
      "movie: 3, actor: 5\n",
      "movie: 3, actor: 6\n",
      "movie: 3, actor: 7\n",
      "movie: 3, actor: 8\n",
      "movie: 3, actor: 9\n",
      "movie: 3, actor: 10\n",
      "movie: 3, actor: -1\n",
      "movie: 4, actor: 1\n",
      "movie: 4, actor: 2\n",
      "movie: 4, actor: 3\n",
      "movie: 4, actor: 4\n",
      "movie: 4, actor: 5\n",
      "movie: 4, actor: 6\n",
      "movie: 4, actor: 7\n",
      "movie: 4, actor: 8\n",
      "movie: 4, actor: 9\n",
      "movie: 4, actor: 10\n",
      "movie: 4, actor: -1\n",
      "movie: 5, actor: 1\n",
      "movie: 5, actor: 2\n",
      "movie: 5, actor: 3\n",
      "movie: 5, actor: 4\n",
      "movie: 5, actor: 5\n",
      "movie: 5, actor: 6\n",
      "movie: 5, actor: 7\n",
      "movie: 5, actor: 8\n",
      "movie: 5, actor: 9\n",
      "movie: 5, actor: 10\n",
      "movie: 5, actor: -1\n",
      "movie: 6, actor: 1\n",
      "movie: 6, actor: 2\n",
      "movie: 6, actor: 3\n",
      "movie: 6, actor: 4\n",
      "movie: 6, actor: 5\n",
      "movie: 6, actor: 6\n",
      "movie: 6, actor: 7\n",
      "movie: 6, actor: 8\n",
      "movie: 6, actor: 9\n",
      "movie: 6, actor: 10\n",
      "movie: 6, actor: -1\n",
      "movie: 7, actor: 1\n",
      "movie: 7, actor: 2\n",
      "movie: 7, actor: 3\n",
      "movie: 7, actor: 4\n",
      "movie: 7, actor: 5\n",
      "movie: 7, actor: 6\n",
      "movie: 7, actor: 7\n",
      "movie: 7, actor: 8\n",
      "movie: 7, actor: 9\n",
      "movie: 7, actor: 10\n",
      "movie: 7, actor: -1\n",
      "movie: 8, actor: 1\n",
      "movie: 8, actor: 2\n",
      "movie: 8, actor: 3\n",
      "movie: 8, actor: 4\n",
      "movie: 8, actor: 5\n",
      "movie: 8, actor: 6\n",
      "movie: 8, actor: 7\n",
      "movie: 8, actor: 8\n",
      "movie: 8, actor: 9\n",
      "movie: 8, actor: 10\n",
      "movie: 8, actor: -1\n",
      "movie: 9, actor: 1\n",
      "movie: 9, actor: 2\n",
      "movie: 9, actor: 3\n",
      "movie: 9, actor: 4\n",
      "movie: 9, actor: 5\n",
      "movie: 9, actor: 6\n",
      "movie: 9, actor: 7\n",
      "movie: 9, actor: 8\n",
      "movie: 9, actor: 9\n",
      "movie: 9, actor: 10\n",
      "movie: 9, actor: -1\n",
      "movie: 10, actor: 1\n",
      "movie: 10, actor: 2\n",
      "movie: 10, actor: 3\n",
      "movie: 10, actor: 4\n",
      "movie: 10, actor: 5\n",
      "movie: 10, actor: 6\n",
      "movie: 10, actor: 7\n",
      "movie: 10, actor: 8\n",
      "movie: 10, actor: 9\n",
      "movie: 10, actor: 10\n",
      "movie: 10, actor: -1\n",
      "movie: -1, actor: 1\n",
      "movie: -1, actor: 2\n",
      "movie: -1, actor: 3\n",
      "movie: -1, actor: 4\n",
      "movie: -1, actor: 5\n",
      "movie: -1, actor: 6\n",
      "movie: -1, actor: 7\n",
      "movie: -1, actor: 8\n",
      "movie: -1, actor: 9\n",
      "movie: -1, actor: 10\n",
      "movie: -1, actor: -1\n"
     ]
    }
   ],
   "source": [
    "# pipeline\n",
    "movie_pipeline = [x + 1 for x in range(10)]\n",
    "movie_pipeline.append(-1)\n",
    "actor_pipeline = [x + 1 for x in range(10)]\n",
    "actor_pipeline.append(-1)\n",
    "mse_list = []\n",
    "me_list = []\n",
    "armse_list = []\n",
    "min_me = 1000\n",
    "min_mse = 1000\n",
    "min_armse = 1000\n",
    "for i in movie_pipeline:\n",
    "    for j in actor_pipeline:\n",
    "        print(\"movie: %d, actor: %d\" %(i, j))\n",
    "        actor_ratings = construct_actor_ratings(i)   \n",
    "        movie_rating_predicted = construct_movie_ratings(j)\n",
    "        mse, me, armse = simple_analysis(movie_rating_predicted)\n",
    "        mse_list.append(mse)\n",
    "        me_list.append(me)\n",
    "        armse_list.append(armse)\n",
    "        if mse < min_mse:\n",
    "            mse_track = [i, j]\n",
    "            min_mse = mse\n",
    "        if me < min_me:\n",
    "            me_track = [i, j]\n",
    "            min_me = me\n",
    "        if armse < min_armse:\n",
    "            armse_track = [i, j]\n",
    "            min_armse = armse"
   ]
  },
  {
   "cell_type": "code",
   "execution_count": 18,
   "metadata": {},
   "outputs": [],
   "source": [
    "# select 1, 5, 10, all\n",
    "sample = [0, 4, 9, 10]\n",
    "x = np.arange(1, 12)\n",
    "plt.plot()\n",
    "for i in sample:\n",
    "    plt.plot(x, mse_list[11*i:11*(i+1)])\n",
    "plt.legend(['1', '5', '10', 'all'], loc='upper right', title='Number of movie used \\nin computing actor score')\n",
    "plt.xlabel(\"Number of Actors used in Perdicting Movie Ratings(11 means all)\")\n",
    "plt.ylabel(\"Mean Square Error\")\n",
    "plt.grid(\"on\")\n",
    "# plt.show()\n",
    "plt.savefig('bi01', dpi = 800)\n",
    "plt.gcf().clear()"
   ]
  },
  {
   "cell_type": "code",
   "execution_count": 19,
   "metadata": {},
   "outputs": [],
   "source": [
    "# select 1, 5, 10, all\n",
    "sample = [0, 4, 9, 10]\n",
    "x = np.arange(1, 12)\n",
    "plt.plot()\n",
    "for i in sample:\n",
    "    plt.plot(x, me_list[11*i:11*(i+1)])\n",
    "plt.legend(['1', '5', '10', 'all'], loc='upper right', title='Number of movie used \\nin computing actor score')\n",
    "plt.xlabel(\"Number of Actors used in Perdicting Movie Ratings(11 means all)\")\n",
    "plt.ylabel(\"Mean Error\")\n",
    "plt.grid(\"on\")\n",
    "# plt.show()\n",
    "plt.savefig('bi02', dpi = 800)\n",
    "plt.gcf().clear()"
   ]
  },
  {
   "cell_type": "code",
   "execution_count": 20,
   "metadata": {},
   "outputs": [],
   "source": [
    "# select 1, 5, 10, all\n",
    "sample = [0, 4, 9, 10]\n",
    "x = np.arange(1, 12)\n",
    "plt.plot()\n",
    "for i in sample:\n",
    "    plt.plot(x, armse_list[11*i:11*(i+1)])\n",
    "plt.legend(['1', '5', '10', 'all'], loc='upper right', title='Number of movie used \\nin computing actor score')\n",
    "plt.xlabel(\"Number of Actors used in Perdicting Movie Ratings(11 means all)\")\n",
    "plt.ylabel(\"Average Root Mean Square Error\")\n",
    "plt.grid(\"on\")\n",
    "# plt.show()\n",
    "plt.savefig('bi03', dpi = 800)\n",
    "plt.gcf().clear()"
   ]
  },
  {
   "cell_type": "code",
   "execution_count": 28,
   "metadata": {},
   "outputs": [
    {
     "name": "stdout",
     "output_type": "stream",
     "text": [
      "66\n",
      "62\n",
      "21\n"
     ]
    }
   ],
   "source": [
    "# length of actors of movie:\n",
    "for movie in target_movie_index:\n",
    "    print len(movie_actor_dict_int_int[movie])"
   ]
  },
  {
   "cell_type": "code",
   "execution_count": 54,
   "metadata": {
    "collapsed": true
   },
   "outputs": [],
   "source": [
    "# list of target actors:\n",
    "target_actor = list(set([actor for movie in target_movie_index for actor in movie_actor_dict_int_int[movie]]))"
   ]
  },
  {
   "cell_type": "code",
   "execution_count": 80,
   "metadata": {},
   "outputs": [],
   "source": [
    "# target_actor_ratings\n",
    "target_actor_ratings = {}\n",
    "for actor in target_actor:\n",
    "    ratings = []\n",
    "    for movie in actor_movie_dict_int_int[actor]:\n",
    "        try:\n",
    "            ratings.append(movie_int_ratings[movie])\n",
    "        except:\n",
    "            pass\n",
    "    if len(ratings) > 0:\n",
    "        target_actor_ratings.update({actor:np.mean(ratings)})"
   ]
  },
  {
   "cell_type": "code",
   "execution_count": 84,
   "metadata": {},
   "outputs": [
    {
     "name": "stdout",
     "output_type": "stream",
     "text": [
      "Batman v Superman: Dawn of Justice (2016)\n",
      "length: 63\n",
      "rating: 6.300000\n",
      "Mission: Impossible - Rogue Nation (2015)\n",
      "length: 62\n",
      "rating: 6.500000\n",
      "Minions (2015)\n",
      "length: 21\n",
      "rating: 6.800000\n"
     ]
    }
   ],
   "source": [
    "ratings = []\n",
    "for movie in target_movie_index:\n",
    "    rating = []\n",
    "    for actor in movie_actor_dict_int_int[movie]:\n",
    "        try: rating.append(target_actor_ratings[actor])\n",
    "        except: pass\n",
    "    ratings.append(rating)\n",
    "    print ('%s' %movie_list[movie])\n",
    "    print ('length: %d' %len(rating))\n",
    "    print ('rating: %f' %round(np.mean(rating), 1))"
   ]
  },
  {
   "cell_type": "code",
   "execution_count": 99,
   "metadata": {},
   "outputs": [],
   "source": [
    "# histogram of actor ratings\n",
    "plt.hist(ratings[0], 63)\n",
    "plt.hist(ratings[1], 62)\n",
    "plt.hist(ratings[2], 21)\n",
    "plt.legend(['Batman v Superman: Dawn of Justice (2016)', 'Mission: Impossible - Rogue Nation (2015)',\n",
    "            'Minions (2015)'], loc='upper left', fontsize = 7)\n",
    "plt.xlabel(\"Number of Actor/Actress\")\n",
    "plt.ylabel(\"Actor/Actress Ratings\")\n",
    "plt.grid(\"on\")\n",
    "# plt.show()\n",
    "plt.savefig('hist', dpi = 800)\n",
    "plt.gcf().clear()"
   ]
  },
  {
   "cell_type": "code",
   "execution_count": 100,
   "metadata": {},
   "outputs": [
    {
     "data": {
      "text/plain": [
       "0.54029411764705881"
      ]
     },
     "execution_count": 100,
     "metadata": {},
     "output_type": "execute_result"
    }
   ],
   "source": [
    "mse_list[-1]"
   ]
  },
  {
   "cell_type": "code",
   "execution_count": 101,
   "metadata": {},
   "outputs": [
    {
     "data": {
      "text/plain": [
       "0.19369747899159595"
      ]
     },
     "execution_count": 101,
     "metadata": {},
     "output_type": "execute_result"
    }
   ],
   "source": [
    "me_list[-1]"
   ]
  },
  {
   "cell_type": "code",
   "execution_count": 103,
   "metadata": {},
   "outputs": [
    {
     "data": {
      "text/plain": [
       "0.7350470173036953"
      ]
     },
     "execution_count": 103,
     "metadata": {},
     "output_type": "execute_result"
    }
   ],
   "source": [
    "armse_list[-1]"
   ]
  },
  {
   "cell_type": "code",
   "execution_count": null,
   "metadata": {
    "collapsed": true
   },
   "outputs": [],
   "source": []
  }
 ],
 "metadata": {
  "kernelspec": {
   "display_name": "Python 2",
   "language": "python",
   "name": "python2"
  },
  "language_info": {
   "codemirror_mode": {
    "name": "ipython",
    "version": 2
   },
   "file_extension": ".py",
   "mimetype": "text/x-python",
   "name": "python",
   "nbconvert_exporter": "python",
   "pygments_lexer": "ipython2",
   "version": "2.7.13"
  }
 },
 "nbformat": 4,
 "nbformat_minor": 2
}
