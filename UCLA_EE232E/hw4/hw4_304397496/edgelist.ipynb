{
 "cells": [
  {
   "cell_type": "code",
   "execution_count": 1,
   "metadata": {
    "collapsed": true
   },
   "outputs": [],
   "source": [
    "# %load my_imports.py\n",
    "import pandas as pd\n",
    "import matplotlib.pyplot as plt\n",
    "import numpy as np\n",
    "import re\n",
    "import csv\n",
    "\n",
    "import datetime\n",
    "import time\n",
    "\n",
    "import json"
   ]
  },
  {
   "cell_type": "code",
   "execution_count": 2,
   "metadata": {
    "collapsed": true
   },
   "outputs": [],
   "source": [
    "# import data dynamically\n",
    "import math\n",
    "\n",
    "def load_n_compute_log_return(file_name):\n",
    "    df = pd.read_csv('data/' + file_name)\n",
    "    df = df['Close'].apply(lambda x: math.log(x))\n",
    "    log_return = df.pct_change()[1:]*100\n",
    "    return log_return\n",
    "\n",
    "def load_n_select_monday_n_compute_log_return(file_name):\n",
    "    df = pd.read_csv('data/' + file_name)\n",
    "    df['Date'] = pd.to_datetime(df['Date'])\n",
    "    log_price = df.ix[df['Date'].dt.weekday == 0, \n",
    "                      'Close'].apply(lambda x: math.log(x)).reset_index(drop=True)\n",
    "    log_return = log_price.pct_change()[1:]*100\n",
    "    return log_return\n",
    "\n",
    "def load_n_compute_mean_n_stdv(file_name):\n",
    "    df = pd.read_csv('data/' + file_name)\n",
    "    df = df['Close'].apply(lambda x: math.log(x))\n",
    "    log_return = df.pct_change()[1:]*100\n",
    "    return np.mean(log_return), np.std(log_return)"
   ]
  },
  {
   "cell_type": "code",
   "execution_count": 21,
   "metadata": {
    "collapsed": true
   },
   "outputs": [],
   "source": [
    "# Problem 1\n",
    "#Compute Correlation \n",
    "# i, j: stock i n j\n",
    "def compute_cor(i, j):\n",
    "    r_i = load_n_compute_log_return(list_of_files[i])\n",
    "    r_j = load_n_compute_log_return(list_of_files[j])\n",
    "    r_i_aver = np.mean(r_i)\n",
    "    r_j_aver = np.mean(r_j)\n",
    "    r_i_sqr_aver = np.mean(np.square(r_i))\n",
    "    r_i_aver_sqr = np.square(np.mean(r_i))\n",
    "    r_j_aver_sqr = np.square(np.mean(r_j))\n",
    "    r_j_sqr_aver = np.mean(np.square(r_j))\n",
    "    r_ij_aver = np.mean(r_i*r_j)\n",
    "    numerator = r_ij_aver - r_i_aver*r_j_aver\n",
    "    denominator = np.sqrt((r_i_sqr_aver - r_i_aver_sqr)*(r_j_sqr_aver - r_j_aver_sqr))\n",
    "    p_ij = numerator/denominator\n",
    "    d_ij = np.sqrt(2*(1-p_ij))\n",
    "    return p_ij, d_ij\n",
    "\n",
    "def compute_cor_weekly(i, j):\n",
    "    r_i = load_n_select_monday_n_compute_log_return(list_of_files[i])\n",
    "    r_j = load_n_select_monday_n_compute_log_return(list_of_files[j])\n",
    "    r_i_aver = np.mean(r_i)\n",
    "    r_j_aver = np.mean(r_j)\n",
    "    r_i_sqr_aver = np.mean(np.square(r_i))\n",
    "    r_i_aver_sqr = np.square(np.mean(r_i))\n",
    "    r_j_aver_sqr = np.square(np.mean(r_j))\n",
    "    r_j_sqr_aver = np.mean(np.square(r_j))\n",
    "    r_ij_aver = np.mean(r_i*r_j)\n",
    "    numerator = r_ij_aver - r_i_aver*r_j_aver\n",
    "    denominator = np.sqrt((r_i_sqr_aver - r_i_aver_sqr)*(r_j_sqr_aver - r_j_aver_sqr))\n",
    "    p_ij = numerator/denominator\n",
    "    d_ij = np.sqrt(2*(1-p_ij))\n",
    "    return p_ij, d_ij"
   ]
  },
  {
   "cell_type": "code",
   "execution_count": 24,
   "metadata": {
    "collapsed": true
   },
   "outputs": [],
   "source": [
    "# create a dict that tracks the names\n",
    "import os\n",
    "list_of_files = os.listdir('data')\n",
    "list_of_corps = [file_name[:-4] for file_name in list_of_files]\n",
    "indexes = [x for x in range(len(list_of_files))]\n",
    "file_dict = {}\n",
    "for idx in indexes:\n",
    "    file_dict.update({list_of_corps[idx]: idx})\n",
    "file_dict_reversed = dict((y, x) for (x, y) in file_dict.iteritems())"
   ]
  },
  {
   "cell_type": "code",
   "execution_count": null,
   "metadata": {
    "collapsed": true
   },
   "outputs": [],
   "source": [
    "# generate \n",
    "import itertools\n",
    "edge_list = []\n",
    "corr_list = []\n",
    "for pair in itertools.combinations(indexes, 2):\n",
    "    # pair[0] and pair[1]\n",
    "#     weight = compute_cor(pair[0], pair[1])\n",
    "    p_ij, d_ij = compute_cor(pair[0], pair[1])\n",
    "    corr_list.append([pair[0], pair[1], p_ij])\n",
    "    edge_list.append([pair[0], pair[1], d_ij])\n",
    "corrlist = pd.DataFrame(corr_list)\n",
    "edgelist = pd.DataFrame(edge_list)\n",
    "corrlist.to_csv('Corrlog/corrlist_day.csv', header = 0, index = 0)\n",
    "edgelist.to_csv('Network/edgelist_day.csv', header = 0, index = 0)\n",
    "print(len(edge_list))"
   ]
  },
  {
   "cell_type": "code",
   "execution_count": 4,
   "metadata": {
    "scrolled": true
   },
   "outputs": [
    {
     "data": {
      "text/html": [
       "<div>\n",
       "<table border=\"1\" class=\"dataframe\">\n",
       "  <thead>\n",
       "    <tr style=\"text-align: right;\">\n",
       "      <th></th>\n",
       "      <th>from</th>\n",
       "      <th>to</th>\n",
       "      <th>weight</th>\n",
       "    </tr>\n",
       "  </thead>\n",
       "  <tbody>\n",
       "    <tr>\n",
       "      <th>0</th>\n",
       "      <td>0</td>\n",
       "      <td>1</td>\n",
       "      <td>1.181978</td>\n",
       "    </tr>\n",
       "    <tr>\n",
       "      <th>1</th>\n",
       "      <td>0</td>\n",
       "      <td>2</td>\n",
       "      <td>1.263760</td>\n",
       "    </tr>\n",
       "    <tr>\n",
       "      <th>2</th>\n",
       "      <td>0</td>\n",
       "      <td>3</td>\n",
       "      <td>1.352927</td>\n",
       "    </tr>\n",
       "    <tr>\n",
       "      <th>3</th>\n",
       "      <td>0</td>\n",
       "      <td>4</td>\n",
       "      <td>1.120446</td>\n",
       "    </tr>\n",
       "    <tr>\n",
       "      <th>4</th>\n",
       "      <td>0</td>\n",
       "      <td>5</td>\n",
       "      <td>1.244592</td>\n",
       "    </tr>\n",
       "  </tbody>\n",
       "</table>\n",
       "</div>"
      ],
      "text/plain": [
       "   from  to    weight\n",
       "0     0   1  1.181978\n",
       "1     0   2  1.263760\n",
       "2     0   3  1.352927\n",
       "3     0   4  1.120446\n",
       "4     0   5  1.244592"
      ]
     },
     "execution_count": 4,
     "metadata": {},
     "output_type": "execute_result"
    }
   ],
   "source": [
    "df = pd.read_csv('Network/edgelist_day.csv', header = None)\n",
    "df.columns = ['from', 'to', 'weight']\n",
    "df.head()"
   ]
  },
  {
   "cell_type": "code",
   "execution_count": null,
   "metadata": {
    "collapsed": true
   },
   "outputs": [],
   "source": [
    "plt.hist(df.weight, bins= 50)\n",
    "plt.xlabel(\"$d_{ij}$\")\n",
    "plt.ylabel(\"Frequency\")\n",
    "plt.grid(\"on\")\n",
    "# plt.show()\n",
    "plt.savefig('figures/02hist', dpi = 500)\n",
    "plt.gcf().clear()"
   ]
  },
  {
   "cell_type": "code",
   "execution_count": null,
   "metadata": {
    "collapsed": true
   },
   "outputs": [],
   "source": [
    "# create a dict for sectors\n",
    "df = pd.read_csv('Name_sector.csv', header = 0)\n",
    "stock_sector_dict = dict(zip(df.Symbol, df.Sector))\n",
    "sector_dict = {}\n",
    "sector_list = list(set(df.Sector))\n",
    "index_list = [x+1 for x in range(len(sector_list))]\n",
    "for idx in range(len(sector_list)):\n",
    "    sector_dict.update({sector_list[idx]: index_list[idx]})\n",
    "sector_dict"
   ]
  },
  {
   "cell_type": "code",
   "execution_count": null,
   "metadata": {
    "collapsed": true
   },
   "outputs": [],
   "source": [
    "# create a sector - color index file\n",
    "color_list = []\n",
    "for key, value in stock_sector_dict.iteritems():\n",
    "    color_list.append([file_dict[key], sector_dict[value]])\n",
    "pd.DataFrame(color_list).sort_values(by = 0).to_csv('Network/colorlist.csv', header=0, index=0)"
   ]
  },
  {
   "cell_type": "code",
   "execution_count": null,
   "metadata": {
    "collapsed": true
   },
   "outputs": [],
   "source": [
    "# generate Monday only\n",
    "import itertools\n",
    "edge_list = []\n",
    "corr_list = []\n",
    "for pair in itertools.combinations(indexes, 2):\n",
    "    # pair[0] and pair[1]\n",
    "#     weight = compute_cor(pair[0], pair[1])\n",
    "    p_ij, d_ij = compute_cor_weekly(pair[0], pair[1])\n",
    "    corr_list.append([pair[0], pair[1], p_ij])\n",
    "    edge_list.append([pair[0], pair[1], d_ij])\n",
    "corrlist = pd.DataFrame(corr_list)\n",
    "edgelist = pd.DataFrame(edge_list)\n",
    "corrlist.to_csv('Corrlog/corrlist_week.csv', header = 0, index = 0)\n",
    "edgelist.to_csv('Network/edgelist_week.csv', header = 0, index = 0)\n",
    "print(len(edge_list))"
   ]
  },
  {
   "cell_type": "code",
   "execution_count": 9,
   "metadata": {
    "collapsed": true
   },
   "outputs": [],
   "source": [
    "# plot hist of p_ij\n",
    "# and fit a normal curve\n",
    "from scipy.stats import norm\n",
    "df = pd.read_csv('Corrlog/corrlist_day.csv', header = None)\n",
    "df.columns = ['from', 'to', 'corr']\n",
    "\n",
    "plt.hist(df['corr'], bins= 50, normed = True)\n",
    "(mu, sigma) = norm.fit(df['corr'])\n",
    "xmin, xmax = plt.xlim()\n",
    "x = np.linspace(xmin, xmax, 100)\n",
    "p = norm.pdf(x, mu, sigma)\n",
    "plt.plot(x, p, 'k', linewidth=2)\n",
    "\n",
    "# plt.hist(p, bins = 50)\n",
    "\n",
    "plt.xlabel(\"$p_{ij}$\")\n",
    "plt.ylabel(\"Probability Density\")\n",
    "plt.grid(\"on\")\n",
    "\n",
    "# plt.show()\n",
    "plt.savefig('figures/07hist', dpi = 500)\n",
    "plt.gcf().clear()"
   ]
  },
  {
   "cell_type": "code",
   "execution_count": 49,
   "metadata": {
    "collapsed": true
   },
   "outputs": [],
   "source": [
    "# adjust corr values\n",
    "df_new = df\n",
    "df_new['corr'].apply(lambda x: -1 if x >= 0.3 else x)\n",
    "df_new['corr'].apply(lambda x: np.sqrt(2*(1 - x)))\n",
    "df.to_csv('Network/edgelist_corr.csv', header = 0, index = 0)"
   ]
  },
  {
   "cell_type": "code",
   "execution_count": 10,
   "metadata": {
    "collapsed": true
   },
   "outputs": [],
   "source": [
    "# distribution of the mean, deviation\n",
    "mean_dis = []\n",
    "stdv_dis = []\n",
    "for file_name in list_of_files:\n",
    "    mean, stdv = load_n_compute_mean_n_stdv(file_name)\n",
    "    mean_dis.append(mean)\n",
    "    stdv_dis.append(stdv)"
   ]
  },
  {
   "cell_type": "code",
   "execution_count": 16,
   "metadata": {
    "collapsed": true
   },
   "outputs": [],
   "source": [
    "plt.hist(mean_dis, bins = 50)\n",
    "plt.xlabel(\"$Mean\\ Value$\")\n",
    "plt.ylabel(\"Frequency\")\n",
    "plt.grid(\"on\")\n",
    "# plt.show()\n",
    "plt.savefig('figures/05mean', dpi = 500)\n",
    "plt.gcf().clear()"
   ]
  },
  {
   "cell_type": "code",
   "execution_count": 25,
   "metadata": {
    "collapsed": true
   },
   "outputs": [],
   "source": [
    "eul = pd.read_csv('euler/euler.csv')\n",
    "eul = eul[\"x\"]\n",
    "eul = eul.tolist()\n",
    "b = []\n",
    "_ = [b.append(item) for item in eul if item not in b]"
   ]
  },
  {
   "cell_type": "code",
   "execution_count": 23,
   "metadata": {
    "collapsed": true
   },
   "outputs": [],
   "source": [
    "pd.DataFrame(b).to_csv('euler/tour.csv', header = 0, index = 0)"
   ]
  },
  {
   "cell_type": "code",
   "execution_count": 11,
   "metadata": {},
   "outputs": [],
   "source": [
    "# construct weighted adj matrix\n",
    "with open ('Network/edgelist_day.csv') as f:\n",
    "    contents = f.readlines()\n",
    "n = 505"
   ]
  },
  {
   "cell_type": "code",
   "execution_count": 19,
   "metadata": {},
   "outputs": [],
   "source": [
    "adj = np.zeros(shape = (n, n))"
   ]
  },
  {
   "cell_type": "code",
   "execution_count": 20,
   "metadata": {
    "collapsed": true
   },
   "outputs": [],
   "source": [
    "for content in contents:\n",
    "    line = re.split(r\"[~,\\n]+\", content)\n",
    "    i = int(line[0])\n",
    "    j = int(line[1])\n",
    "    weight = float(line[2])\n",
    "    adj[i, j] = weight\n",
    "    adj[j, i] = weight"
   ]
  },
  {
   "cell_type": "code",
   "execution_count": 23,
   "metadata": {},
   "outputs": [],
   "source": [
    "pd.DataFrame(adj).to_csv('Network/adj.csv', header = 0, index = 0)"
   ]
  },
  {
   "cell_type": "code",
   "execution_count": 33,
   "metadata": {},
   "outputs": [],
   "source": [
    "# test length\n",
    "for afile in list_of_files:\n",
    "    df = pd.read_csv('data/' + file_name)\n",
    "    if len(df.index) != 765:\n",
    "        print 1"
   ]
  }
 ],
 "metadata": {
  "kernelspec": {
   "display_name": "Python 2",
   "language": "python",
   "name": "python2"
  },
  "language_info": {
   "codemirror_mode": {
    "name": "ipython",
    "version": 2
   },
   "file_extension": ".py",
   "mimetype": "text/x-python",
   "name": "python",
   "nbconvert_exporter": "python",
   "pygments_lexer": "ipython2",
   "version": "2.7.13"
  }
 },
 "nbformat": 4,
 "nbformat_minor": 2
}
