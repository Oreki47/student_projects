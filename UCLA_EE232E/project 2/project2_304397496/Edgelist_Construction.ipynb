{
 "cells": [
  {
   "cell_type": "code",
   "execution_count": 1,
   "metadata": {
    "collapsed": true
   },
   "outputs": [],
   "source": [
    "# %load my_imports\n",
    "import pandas as pd\n",
    "import matplotlib.pyplot as plt\n",
    "import numpy as np\n",
    "\n",
    "import datetime\n",
    "import time\n",
    "\n",
    "import json"
   ]
  },
  {
   "cell_type": "code",
   "execution_count": 2,
   "metadata": {
    "collapsed": true
   },
   "outputs": [],
   "source": [
    "# Dict writer n reader\n",
    "import csv\n",
    "def write_to_file(name, dict_object):\n",
    "    with open(name, 'wb') as csv_file:\n",
    "        writer = csv.writer(csv_file)\n",
    "        for key, value in dict_object.items():\n",
    "           writer.writerow([key, value])\n",
    "        \n",
    "def load_from_file(file_name):\n",
    "    dict_object = {}\n",
    "    df = pd.read_csv(file_name, names = ['key', 'value'])\n",
    "    for idx in df.index:\n",
    "        key = df.key[idx]\n",
    "        value = [int(value) for value in df.value[idx][1:-1].split(',')]\n",
    "        dict_object.update({key: value})\n",
    "    return dict_object"
   ]
  },
  {
   "cell_type": "code",
   "execution_count": 3,
   "metadata": {
    "collapsed": true
   },
   "outputs": [],
   "source": [
    "movie_actor_dict_int_int = load_from_file('10 networks/movie_actor_dict_int_int.csv')\n",
    "actor_movie_dict_int_int = load_from_file('10 networks/actor_movie_dict_int_int.csv')"
   ]
  },
  {
   "cell_type": "code",
   "execution_count": null,
   "metadata": {
    "collapsed": true
   },
   "outputs": [],
   "source": [
    "# Constructing actor network edgelist\n",
    "# Problem 1 recount? Count i only\n",
    "# Problem 2 recount every encounter\n",
    "import collections\n",
    "\n",
    "def build_actor_edgelist(test_dict, actor_dict, movie_dict):\n",
    "    actor_edge_list = pd.DataFrame()\n",
    "    for actor_i in test_dict.keys():\n",
    "        if actor_i%1000 == 0:\n",
    "            print actor_i\n",
    "        # i_starred: number of movies actor_i starred in\n",
    "        i_starred = len(test_dict[actor_i])\n",
    "        # co_starring: list of actors i has costarred with\n",
    "        co_starring = [actor_j for movie in test_dict[actor_i] for actor_j in movie_dict[movie]] \n",
    "        # remove all actor_i elements\n",
    "        while actor_i in co_starring: co_starring.remove(actor_i)\n",
    "        # sort in increasing order (better behavior control)\n",
    "        co_starring.sort()\n",
    "        # co_starring_instances: dict_object, count number of each instances\n",
    "        co_starring_instances = collections.Counter(co_starring)\n",
    "        # co_starring_set: tuple_object, no duplicates\n",
    "        co_starring_set = set(co_starring)\n",
    "        weight = [co_starring_instances[key] / float(i_starred) for key in co_starring_instances.keys()]\n",
    "        edge_list_i = pd.DataFrame([[actor_i for i in range(len(co_starring_set))], list(co_starring_set), weight]).transpose()\n",
    "        actor_edge_list = pd.concat([actor_edge_list, edge_list_i])\n",
    "    return actor_edge_list"
   ]
  },
  {
   "cell_type": "code",
   "execution_count": null,
   "metadata": {
    "collapsed": true
   },
   "outputs": [],
   "source": [
    "# A subset of the dictionary for test purposes\n",
    "i = 2\n",
    "spread = 3000\n",
    "dict_test = dict((key, actor_movie_dict_int_int[key]) for key in range(i, i + spread))"
   ]
  },
  {
   "cell_type": "code",
   "execution_count": null,
   "metadata": {
    "collapsed": true
   },
   "outputs": [],
   "source": [
    "# write in once (much slower than write to multiple files)\n",
    "str_time= time.time()\n",
    "actor_edge_list = build_actor_edgelist(actor_movie_dict_int_int, actor_movie_dict_int_int, movie_actor_dict_int_int)\n",
    "time_spend = float(time.time() - str_time)\n",
    "print('Time used: %ds' %time_spend)\n",
    "print('Number of actor involved: %d' %len(actor_movie_dict_int_int))\n",
    "print('Edge_list_length: %d' %len(actor_edge_list))\n",
    "print('Average Connection: %d' %(len(actor_edge_list)/len(actor_movie_dict_int_int)))"
   ]
  },
  {
   "cell_type": "code",
   "execution_count": null,
   "metadata": {
    "collapsed": true
   },
   "outputs": [],
   "source": [
    "actor_edge_list.to_csv('actor_network.csv', header=0, index=0)"
   ]
  },
  {
   "cell_type": "code",
   "execution_count": null,
   "metadata": {
    "collapsed": true
   },
   "outputs": [],
   "source": []
  },
  {
   "cell_type": "code",
   "execution_count": 4,
   "metadata": {
    "collapsed": true
   },
   "outputs": [],
   "source": [
    "movie_actor_dict_int_int_trimmed = load_from_file('trimmed_special/movie_actor_dict_int_int_trimmed.csv')\n",
    "actor_movie_dict_int_int_trimmed = load_from_file('trimmed_special/actor_movie_dict_int_int_trimmed.csv')"
   ]
  },
  {
   "cell_type": "code",
   "execution_count": 7,
   "metadata": {
    "collapsed": true
   },
   "outputs": [],
   "source": [
    "# Constructing movie_edge_network\n",
    "# key: for movies that are deleted yet \n",
    "# they still exists in actor files\n",
    "# how to delete them easily\n",
    "# ignore such factor, since it counts \n",
    "# for only 20%, and they are legitimate\n",
    "# points, just not in the trimmed dict\n",
    "\n",
    "def build_movie_edgelist(test_dict, actor_dict, movie_dict):\n",
    "    movie_edge_list = pd.DataFrame()\n",
    "    # sort keys to keep it tracked\n",
    "    key_iter = test_dict.keys()\n",
    "    key_iter.sort()\n",
    "    for movie_i in key_iter:\n",
    "        if movie_i%1000 == 0:\n",
    "            print movie_i\n",
    "        # i_population: number of actors in movie_i\n",
    "        i_population = len(test_dict[movie_i])\n",
    "        # share_actor: a list of movies that shared actors with movie_i\n",
    "        share_actor = [movie_j for actor in test_dict[movie_i] for movie_j in actor_dict[actor]]\n",
    "        # remove_duplicates\n",
    "        share_actor = set(share_actor)\n",
    "        # remove movie_i\n",
    "        share_actor.remove(movie_i)\n",
    "        jaccard = [len(set(test_dict[movie_i]).intersection(movie_dict[key])) for key in share_actor]\n",
    "        weight = [value/ float(len(movie_dict[key]) + i_population + value) for key, value in zip(share_actor, jaccard)]\n",
    "        edge_list_i = pd.DataFrame([[movie_i for i in range(len(share_actor))], list(share_actor), weight]).transpose()\n",
    "        movie_edge_list = pd.concat([movie_edge_list, edge_list_i])\n",
    "    return movie_edge_list"
   ]
  },
  {
   "cell_type": "code",
   "execution_count": 8,
   "metadata": {
    "collapsed": true
   },
   "outputs": [],
   "source": [
    "import random\n",
    "rand_key =[movie_actor_dict_int_int_trimmed.keys()[i] for i in sorted(random.sample(xrange(len(movie_actor_dict_int_int_trimmed.keys())), 2000))]\n",
    "dict_test = dict((key, movie_actor_dict_int_int_trimmed[key]) for key in rand_key)"
   ]
  },
  {
   "cell_type": "code",
   "execution_count": 9,
   "metadata": {},
   "outputs": [
    {
     "name": "stdout",
     "output_type": "stream",
     "text": [
      "4000\n",
      "13000\n",
      "14000\n",
      "24000\n",
      "36000\n",
      "40000\n",
      "44000\n",
      "64000\n",
      "65000\n",
      "66000\n",
      "81000\n",
      "83000\n",
      "92000\n",
      "96000\n",
      "125000\n",
      "135000\n",
      "157000\n",
      "162000\n",
      "170000\n",
      "174000\n",
      "177000\n",
      "209000\n",
      "210000\n",
      "225000\n",
      "230000\n",
      "235000\n",
      "237000\n",
      "241000\n",
      "248000\n",
      "250000\n",
      "259000\n",
      "270000\n",
      "283000\n",
      "290000\n",
      "291000\n",
      "292000\n",
      "295000\n",
      "298000\n",
      "314000\n",
      "340000\n",
      "341000\n",
      "365000\n",
      "381000\n",
      "385000\n",
      "396000\n",
      "399000\n",
      "405000\n",
      "419000\n",
      "421000\n",
      "424000\n",
      "431000\n",
      "445000\n",
      "451000\n",
      "463000\n",
      "466000\n",
      "Time used: 2883s\n"
     ]
    }
   ],
   "source": [
    "str_time= time.time()\n",
    "movie_edge_list = build_movie_edgelist(movie_actor_dict_int_int_trimmed, actor_movie_dict_int_int_trimmed, movie_actor_dict_int_int_trimmed)\n",
    "time_spend = float(time.time() - str_time)\n",
    "print('Time used: %ds' %time_spend)"
   ]
  },
  {
   "cell_type": "code",
   "execution_count": 25,
   "metadata": {},
   "outputs": [
    {
     "data": {
      "text/plain": [
       "105596"
      ]
     },
     "execution_count": 25,
     "metadata": {},
     "output_type": "execute_result"
    }
   ],
   "source": [
    "len(movie_actor_dict_int_int_trimmed.keys())"
   ]
  },
  {
   "cell_type": "code",
   "execution_count": 11,
   "metadata": {},
   "outputs": [],
   "source": [
    "movie_edge_list.to_csv('movie_network_trimmed.csv', header = 0, index = 0)"
   ]
  },
  {
   "cell_type": "code",
   "execution_count": 10,
   "metadata": {},
   "outputs": [
    {
     "data": {
      "text/html": [
       "<div>\n",
       "<table border=\"1\" class=\"dataframe\">\n",
       "  <thead>\n",
       "    <tr style=\"text-align: right;\">\n",
       "      <th></th>\n",
       "      <th>0</th>\n",
       "      <th>1</th>\n",
       "      <th>2</th>\n",
       "    </tr>\n",
       "  </thead>\n",
       "  <tbody>\n",
       "    <tr>\n",
       "      <th>0</th>\n",
       "      <td>2.0</td>\n",
       "      <td>321024.0</td>\n",
       "      <td>0.038462</td>\n",
       "    </tr>\n",
       "    <tr>\n",
       "      <th>1</th>\n",
       "      <td>2.0</td>\n",
       "      <td>230403.0</td>\n",
       "      <td>0.041667</td>\n",
       "    </tr>\n",
       "    <tr>\n",
       "      <th>2</th>\n",
       "      <td>2.0</td>\n",
       "      <td>37303.0</td>\n",
       "      <td>0.043478</td>\n",
       "    </tr>\n",
       "    <tr>\n",
       "      <th>3</th>\n",
       "      <td>2.0</td>\n",
       "      <td>376326.0</td>\n",
       "      <td>0.080000</td>\n",
       "    </tr>\n",
       "    <tr>\n",
       "      <th>4</th>\n",
       "      <td>2.0</td>\n",
       "      <td>17153.0</td>\n",
       "      <td>0.040000</td>\n",
       "    </tr>\n",
       "  </tbody>\n",
       "</table>\n",
       "</div>"
      ],
      "text/plain": [
       "     0         1         2\n",
       "0  2.0  321024.0  0.038462\n",
       "1  2.0  230403.0  0.041667\n",
       "2  2.0   37303.0  0.043478\n",
       "3  2.0  376326.0  0.080000\n",
       "4  2.0   17153.0  0.040000"
      ]
     },
     "execution_count": 10,
     "metadata": {},
     "output_type": "execute_result"
    }
   ],
   "source": [
    "movie_edge_list.head()"
   ]
  },
  {
   "cell_type": "code",
   "execution_count": null,
   "metadata": {
    "collapsed": true
   },
   "outputs": [],
   "source": []
  }
 ],
 "metadata": {
  "kernelspec": {
   "display_name": "Python 2",
   "language": "python",
   "name": "python2"
  },
  "language_info": {
   "codemirror_mode": {
    "name": "ipython",
    "version": 2
   },
   "file_extension": ".py",
   "mimetype": "text/x-python",
   "name": "python",
   "nbconvert_exporter": "python",
   "pygments_lexer": "ipython2",
   "version": "2.7.13"
  }
 },
 "nbformat": 4,
 "nbformat_minor": 2
}
