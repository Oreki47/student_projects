{
 "cells": [
  {
   "cell_type": "code",
   "execution_count": 1,
   "metadata": {
    "collapsed": true
   },
   "outputs": [],
   "source": [
    "# %load my_imports\n",
    "import pandas as pd\n",
    "import matplotlib.pyplot as plt\n",
    "import numpy as np\n",
    "\n",
    "import datetime\n",
    "import time\n",
    "import re\n",
    "import json"
   ]
  },
  {
   "cell_type": "code",
   "execution_count": 2,
   "metadata": {
    "collapsed": true
   },
   "outputs": [],
   "source": [
    "# Problem 1\n",
    "pd.set_option('display.expand_frame_repr', False)\n",
    "\n",
    "act_list = []\n",
    "with open('movies/actor_movies.txt') as f:\n",
    "    actors = f.readlines()\n",
    "    \n",
    "with open('movies/actress_movies.txt') as f:\n",
    "    actresses = f.readlines()"
   ]
  },
  {
   "cell_type": "code",
   "execution_count": 3,
   "metadata": {
    "collapsed": false
   },
   "outputs": [
    {
     "data": {
      "text/plain": [
       "'$, Homo\\t\\tNykytaiteen museo (1986)  \\t\\tSuuri illusioni (1985)  \\n'"
      ]
     },
     "execution_count": 3,
     "metadata": {},
     "output_type": "execute_result"
    }
   ],
   "source": [
    "actors[1]"
   ]
  },
  {
   "cell_type": "code",
   "execution_count": 4,
   "metadata": {
    "collapsed": false
   },
   "outputs": [
    {
     "name": "stdout",
     "output_type": "stream",
     "text": [
      "['$torm, Cuntry', 'From the Woods: The Discovery of LYB (2015)  (as Country $torm)  \\n']\n",
      "['& Davi, Bruninho', '\\n']\n",
      "['& Dollar Furado, Caio Corsalette', '\\n']\n",
      "['& Fabiano, C\\xe9sar Menotti', '\\n']\n",
      "['& Grand Piano Boogie Train, Jaap Dekker', '\\n']\n",
      "['& Ralph, Christian', '\\n']\n",
      "['& The Oriental Groove, Yacine', '\\n']\n",
      "['& Vin\\xedcius, Jo\\xe3o Bosco', '\\n']\n",
      "[\"'77 Big Smoker Pig\", '\\n']\n"
     ]
    }
   ],
   "source": [
    "for i in range(6,15):\n",
    "    print(actors[i].split('\\t\\t'))"
   ]
  },
  {
   "cell_type": "code",
   "execution_count": 5,
   "metadata": {
    "collapsed": true
   },
   "outputs": [],
   "source": [
    "movies = filter(None, re.split(r\"[~\\t\\n]+\", actors[6]))"
   ]
  },
  {
   "cell_type": "code",
   "execution_count": 6,
   "metadata": {
    "collapsed": false
   },
   "outputs": [
    {
     "data": {
      "text/plain": [
       "['$torm, Cuntry',\n",
       " 'From the Woods: The Discovery of LYB (2015)  (as Country $torm)  ']"
      ]
     },
     "execution_count": 6,
     "metadata": {},
     "output_type": "execute_result"
    }
   ],
   "source": [
    "movies"
   ]
  },
  {
   "cell_type": "code",
   "execution_count": 7,
   "metadata": {
    "collapsed": false
   },
   "outputs": [
    {
     "data": {
      "text/plain": [
       "['$torm, Cuntry',\n",
       " 'From the Woods: The Discovery of LYB (2015)  (as Country $torm)']"
      ]
     },
     "execution_count": 7,
     "metadata": {},
     "output_type": "execute_result"
    }
   ],
   "source": [
    "# Remove trailing spaces\n",
    "map(lambda x: x.rstrip(), movies)"
   ]
  },
  {
   "cell_type": "code",
   "execution_count": 8,
   "metadata": {
    "collapsed": true
   },
   "outputs": [],
   "source": [
    "# Find out what's going on\n",
    "er = 'Matsuzaki, Rei\t\tGekijou-ban Mahou Shoujo Madoka*Magica: \t\tGekijou-ban Mahou Shoujo Madoka*Magica: \t\tGekijouban Bureiku bureido Dairokushou: Doukoku no toride (2011)  (voice: Japanese version)  \t\tSeiho redi: Kyonyû midara shibori (1999)  \t\tSoulcalibur V (2012) (VG)  (v)'"
   ]
  },
  {
   "cell_type": "code",
   "execution_count": 9,
   "metadata": {
    "collapsed": false
   },
   "outputs": [
    {
     "data": {
      "text/plain": [
       "['Matsuzaki, Rei',\n",
       " 'Gekijou-ban Mahou Shoujo Madoka*Magica: ',\n",
       " 'Gekijou-ban Mahou Shoujo Madoka*Magica: ',\n",
       " 'Gekijouban Bureiku bureido Dairokushou: Doukoku no toride (2011)  (voice: Japanese version)  ',\n",
       " 'Seiho redi: Kyony\\xc3\\xbb midara shibori (1999)  ',\n",
       " 'Soulcalibur V (2012) (VG)  (v)']"
      ]
     },
     "execution_count": 9,
     "metadata": {},
     "output_type": "execute_result"
    }
   ],
   "source": [
    "er_filtered = filter(None, re.split(r\"[~\\t\\n]+\", er))\n",
    "er_filtered"
   ]
  },
  {
   "cell_type": "code",
   "execution_count": 10,
   "metadata": {
    "collapsed": false
   },
   "outputs": [
    {
     "data": {
      "text/plain": [
       "['Matsuzaki, Rei',\n",
       " 'Gekijou-ban Mahou Shoujo Madoka*Magica:',\n",
       " 'Gekijou-ban Mahou Shoujo Madoka*Magica:',\n",
       " 'Gekijouban Bureiku bureido Dairokushou: Doukoku no toride (2011)  (voice: Japanese version)',\n",
       " 'Seiho redi: Kyony\\xc3\\xbb midara shibori (1999)',\n",
       " 'Soulcalibur V (2012) (VG)  (v)']"
      ]
     },
     "execution_count": 10,
     "metadata": {},
     "output_type": "execute_result"
    }
   ],
   "source": [
    "er_striped = map(lambda x: x.rstrip(), er_filtered)\n",
    "er_striped"
   ]
  },
  {
   "cell_type": "code",
   "execution_count": 11,
   "metadata": {
    "collapsed": false
   },
   "outputs": [
    {
     "name": "stdout",
     "output_type": "stream",
     "text": [
      "['Gekijou-ban Mahou Shoujo Madoka*Magica:']\n",
      "['Gekijou-ban Mahou Shoujo Madoka*Magica:']\n",
      "['Gekijouban Bureiku bureido Dairokushou: Doukoku no toride ', '2011', '  ', 'voice: Japanese version', '']\n",
      "['Seiho redi: Kyony\\xc3\\xbb midara shibori ', '1999', '']\n",
      "['Soulcalibur V ', '2012', ' ', 'VG', '  ', 'v', '']\n"
     ]
    }
   ],
   "source": [
    "for name in er_striped[1:]:\n",
    "    mov = re.split(r'[(|)]', name)\n",
    "#     print (mov[0] + '(' + mov[1] + ')')\n",
    "    print mov"
   ]
  },
  {
   "cell_type": "code",
   "execution_count": 12,
   "metadata": {
    "collapsed": true
   },
   "outputs": [],
   "source": [
    "# perform a test run on actor[:50]\n",
    "def clean_up_n_construct_dict(actor_list):\n",
    "    actor_dict = {}\n",
    "    for actor in actor_list:\n",
    "        actor_movies = filter(None, re.split(r\"[~\\t\\n]+\", actor))\n",
    "        actor = actor_movies[0]\n",
    "        movies = map(lambda x: x.rstrip(), actor_movies[1:])\n",
    "        # By observing the data, we explored movies with same name\n",
    "        # adding set operation to eliminate such factor.\n",
    "        if len(movies) >= 10:\n",
    "            movies_clean = []\n",
    "            for movie in movies:\n",
    "                movie_str = re.split(r'[(|)]', movie)\n",
    "                if len(movie_str) > 1:\n",
    "                    movie_name = movie_str[0] + '(' + movie_str[1] + ')'\n",
    "                    movies_clean.append(movie_name)\n",
    "                else:\n",
    "                    # now we find the bug, turns out \n",
    "                    # re.split(r'[(|)]', movie) return a list\n",
    "                    # so if the length of the list is 1,\n",
    "                    # we need to extract with movie_str[0]\n",
    "                    movies_clean.append(movie_str[0])\n",
    "            actor_dict.update({actor: movies_clean})\n",
    "    return actor_dict"
   ]
  },
  {
   "cell_type": "code",
   "execution_count": 13,
   "metadata": {
    "collapsed": false
   },
   "outputs": [
    {
     "data": {
      "text/plain": [
       "{'$hort, Too': ['American Pimp (1999)',\n",
       "  'Beats, Rhymes & Life: The Travels of a Tribe Called Quest (2011)',\n",
       "  'Gangsta Rap: The Glockumentary (2007)',\n",
       "  'Ghetto Physics (2010)',\n",
       "  'Mac Dre: Legend of the Bay (2014)',\n",
       "  'Menace II Society (1993)',\n",
       "  'Pimpalation: Return of the Trill (2006)',\n",
       "  'Porndogs: The Adventures of Sadie (2009)',\n",
       "  'Rhyme & Reason (1997)',\n",
       "  'Stop Pepper Palmer (2014)',\n",
       "  'Townbiz (2010)',\n",
       "  'Uprising: Hip Hop and the LA Riots (2012)']}"
      ]
     },
     "execution_count": 13,
     "metadata": {},
     "output_type": "execute_result"
    }
   ],
   "source": [
    "# Try\n",
    "clean_up_n_construct_dict(actors[:50])"
   ]
  },
  {
   "cell_type": "code",
   "execution_count": 14,
   "metadata": {
    "collapsed": true
   },
   "outputs": [],
   "source": [
    "# actors\n",
    "actor_movie_dict = clean_up_n_construct_dict(actors)"
   ]
  },
  {
   "cell_type": "code",
   "execution_count": 15,
   "metadata": {
    "collapsed": false
   },
   "outputs": [
    {
     "data": {
      "text/plain": [
       "74587"
      ]
     },
     "execution_count": 15,
     "metadata": {},
     "output_type": "execute_result"
    }
   ],
   "source": [
    "len(actor_movie_dict)"
   ]
  },
  {
   "cell_type": "code",
   "execution_count": 16,
   "metadata": {
    "collapsed": true
   },
   "outputs": [],
   "source": [
    "# merge actress\n",
    "actor_movie_dict.update(clean_up_n_construct_dict(actresses))"
   ]
  },
  {
   "cell_type": "code",
   "execution_count": 17,
   "metadata": {
    "collapsed": false
   },
   "outputs": [
    {
     "data": {
      "text/plain": [
       "113122"
      ]
     },
     "execution_count": 17,
     "metadata": {},
     "output_type": "execute_result"
    }
   ],
   "source": [
    "len(actor_movie_dict)"
   ]
  },
  {
   "cell_type": "code",
   "execution_count": 18,
   "metadata": {
    "collapsed": true
   },
   "outputs": [],
   "source": [
    "# Dict writer\n",
    "import csv\n",
    "def write_to_file(name, dict_object):\n",
    "    with open(name, 'wb') as csv_file:\n",
    "        writer = csv.writer(csv_file)\n",
    "        for key, value in dict_object.items():\n",
    "           writer.writerow([key, value])     "
   ]
  },
  {
   "cell_type": "code",
   "execution_count": 19,
   "metadata": {
    "collapsed": true
   },
   "outputs": [],
   "source": [
    "actor_list = actor_movie_dict.keys()"
   ]
  },
  {
   "cell_type": "code",
   "execution_count": 20,
   "metadata": {
    "collapsed": false,
    "scrolled": true
   },
   "outputs": [
    {
     "data": {
      "text/plain": [
       "113122"
      ]
     },
     "execution_count": 20,
     "metadata": {},
     "output_type": "execute_result"
    }
   ],
   "source": [
    "len(actor_list)"
   ]
  },
  {
   "cell_type": "code",
   "execution_count": 21,
   "metadata": {
    "collapsed": false
   },
   "outputs": [
    {
     "name": "stdout",
     "output_type": "stream",
     "text": [
      "('Actor length:', 113122)\n",
      "('Movie length:', 3176067)\n",
      "('Movie length after dropping duplicates:', 468185)\n"
     ]
    }
   ],
   "source": [
    "# Debugged hashable list issue\n",
    "# simple n sweat \n",
    "# drop duplicates\n",
    "\n",
    "movie_list = actor_movie_dict.values()\n",
    "print('Actor length:',  len(movie_list))\n",
    "# drop duplicates\n",
    "# List Comprehension sooo Fast!!!\n",
    "flatten = lambda x: [item for sublist in x for item in sublist]\n",
    "movie_list = flatten(movie_list)\n",
    "print('Movie length:', len(movie_list))\n",
    "\n",
    "def drop_duplicates(seq):\n",
    "    keys = {}\n",
    "    for e in seq:\n",
    "        keys[e] = 1\n",
    "    return keys.keys()\n",
    "movie_list = drop_duplicates(movie_list)\n",
    "print('Movie length after dropping duplicates:', len(movie_list))"
   ]
  },
  {
   "cell_type": "code",
   "execution_count": 22,
   "metadata": {
    "collapsed": true
   },
   "outputs": [],
   "source": [
    "# generate act_index_dict\n",
    "# and movie_index_dict\n",
    "# Such step is necessary since \n",
    "# writing files directly would take too much space\n",
    "num_list = range(1, len(actor_list) + 1)\n",
    "actor_index_dict = dict(zip(actor_list, num_list))\n",
    "\n",
    "num_list = range(1, len(movie_list) + 1)\n",
    "movie_index_dict = dict(zip(movie_list, num_list))"
   ]
  },
  {
   "cell_type": "code",
   "execution_count": 23,
   "metadata": {
    "collapsed": true
   },
   "outputs": [],
   "source": [
    "# write_to_file('actor_dict.csv', actor_index_dict)\n",
    "# write_to_file('movie_dict.csv', movie_index_dict)"
   ]
  },
  {
   "cell_type": "code",
   "execution_count": 24,
   "metadata": {
    "collapsed": true
   },
   "outputs": [],
   "source": [
    "# Generate a actor_dict_int\n",
    "# replace all str with numerics\n",
    "# use deep copy to generate a new\n",
    "# object\n",
    "import copy\n",
    "actor_movie_dict_int = copy.deepcopy(actor_movie_dict)\n",
    "for old_key in actor_movie_dict_int.keys():\n",
    "    new_key = actor_index_dict[old_key]\n",
    "    actor_movie_dict_int[new_key] =actor_movie_dict_int.pop(old_key)\n",
    "    \n",
    "actor_movie_dict_int_int = copy.deepcopy(actor_movie_dict_int)\n",
    "\n",
    "for key, values in actor_movie_dict_int_int.iteritems():\n",
    "    for i in range(len(values)):\n",
    "        actor_movie_dict_int_int[key][i] = movie_index_dict[values[i]] "
   ]
  },
  {
   "cell_type": "code",
   "execution_count": 25,
   "metadata": {
    "collapsed": true
   },
   "outputs": [],
   "source": [
    "# write_to_file('actor_movie_dict_int_int.csv', actor_movie_dict_int_int)"
   ]
  },
  {
   "cell_type": "code",
   "execution_count": 26,
   "metadata": {
    "collapsed": true
   },
   "outputs": [],
   "source": [
    "# generate movie_actor_dict and\n",
    "# movie_actor_dict_int_int\n",
    "movie_actor_dict = {}\n",
    "for movie in movie_list:\n",
    "    movie_actor_dict.update({movie: []})"
   ]
  },
  {
   "cell_type": "code",
   "execution_count": 27,
   "metadata": {
    "collapsed": true
   },
   "outputs": [],
   "source": [
    "for key, values in actor_movie_dict.iteritems():\n",
    "    for value in values:\n",
    "        movie_actor_dict[value].append(key)"
   ]
  },
  {
   "cell_type": "code",
   "execution_count": 28,
   "metadata": {
    "collapsed": true
   },
   "outputs": [],
   "source": [
    "import copy\n",
    "movie_actor_dict_int = copy.deepcopy(movie_actor_dict)\n",
    "for old_key in movie_actor_dict_int.keys():\n",
    "    new_key = movie_index_dict[old_key]\n",
    "    movie_actor_dict_int[new_key] =movie_actor_dict_int.pop(old_key)\n",
    "    \n",
    "movie_actor_dict_int_int = copy.deepcopy(movie_actor_dict_int)\n",
    "\n",
    "for key, values in movie_actor_dict_int_int.iteritems():\n",
    "    for i in range(len(values)):\n",
    "        movie_actor_dict_int_int[key][i] = actor_index_dict[values[i]] "
   ]
  },
  {
   "cell_type": "code",
   "execution_count": 29,
   "metadata": {
    "collapsed": true
   },
   "outputs": [],
   "source": [
    "# write_to_file('movie_actor_dict_int_int.csv', movie_actor_dict_int_int)"
   ]
  },
  {
   "cell_type": "code",
   "execution_count": 30,
   "metadata": {
    "collapsed": false
   },
   "outputs": [
    {
     "data": {
      "text/plain": [
       "105596"
      ]
     },
     "execution_count": 30,
     "metadata": {},
     "output_type": "execute_result"
    }
   ],
   "source": [
    "## Construct trimmed movie_file\n",
    "# movie edgelist\n",
    "# remove movies with less than 10 actors\n",
    "# \n",
    "movie_index_dict_trimmed = dict((y,x) for x, y in movie_index_dict.iteritems())\n",
    "import copy\n",
    "movie_actor_dict_int_int_trimmed = copy.deepcopy(movie_actor_dict_int_int)\n",
    "movie_dict_trimmed = copy.deepcopy(movie_index_dict)\n",
    "for movie, actors in movie_actor_dict_int_int.iteritems():\n",
    "    if len(actors) < 10 :\n",
    "        movie_actor_dict_int_int_trimmed.pop(movie)\n",
    "        movie_index_dict_trimmed.pop(movie)\n",
    "#     if len(actors) > 15:\n",
    "#         movie_actor_dict_int_int_trimmed.pop(movie)\n",
    "#         movie_index_dict_trimmed.pop(movie)\n",
    "len(movie_actor_dict_int_int_trimmed)"
   ]
  },
  {
   "cell_type": "code",
   "execution_count": 78,
   "metadata": {
    "collapsed": false
   },
   "outputs": [
    {
     "name": "stdout",
     "output_type": "stream",
     "text": [
      "267804\n",
      "[963, 2891, 3018, 3409, 5362, 5497, 5653, 5807, 7621, 15272, 17422, 17644, 17953, 18099, 24910, 29532, 30091, 30302, 30904, 32135, 32189, 34154, 35735, 40594, 41876, 44453, 46840, 47983, 49559, 52268, 59313, 60842, 61605, 62318, 62475, 62494, 64736, 66511, 67724, 68216, 70021, 70222, 72617, 75821, 76396, 82962, 83332, 84751, 85066, 85788, 87624, 88132, 88377, 88589, 90425, 94769, 96336, 96546, 97692, 98023, 99694, 105456, 107227, 110929, 111211, 111531]\n",
      "415523\n",
      "[3833, 6932, 8769, 12468, 14322, 16878, 18554, 20580, 24271, 24771, 25046, 27753, 28825, 31418, 34778, 35501, 39392, 42492, 46755, 49495, 51732, 53128, 53532, 54051, 54793, 55635, 58314, 58629, 59744, 62030, 63398, 64499, 64528, 66527, 66714, 66720, 67772, 69320, 69543, 72719, 75555, 78154, 82577, 82718, 85369, 86911, 87962, 88191, 88603, 90806, 90864, 91261, 93821, 95426, 95585, 96964, 97364, 99875, 103491, 108360, 109535, 111671]\n",
      "289502\n",
      "[7032, 23799, 31069, 33297, 42359, 43013, 49534, 52370, 59863, 64130, 64646, 67246, 73660, 74180, 80166, 95862, 96617, 101689, 106296, 110050, 111963]\n"
     ]
    },
    {
     "data": {
      "text/plain": [
       "52673"
      ]
     },
     "execution_count": 78,
     "metadata": {},
     "output_type": "execute_result"
    }
   ],
   "source": [
    "# Add three target movies in\n",
    "target_movies = ['Batman v Superman: Dawn of Justice (2016)', 'Mission: Impossible - Rogue Nation (2015)', 'Minions (2015)']\n",
    "for movie in target_movies:\n",
    "    movie_actor_dict_int_int_trimmed.update({movie_index_dict[movie]: movie_actor_dict_int_int[movie_index_dict[movie]]})\n",
    "    movie_index_dict_trimmed.update({movie_index_dict[movie]: movie})\n",
    "write_to_file(\"trimmed_special/movie_actor_dict_int_int_trimmed.csv\", movie_actor_dict_int_int_trimmed)\n",
    "write_to_file(\"trimmed_special/movie_index_dict_trimmed.csv\", movie_index_dict_trimmed)\n",
    "len(movie_actor_dict_int_int_trimmed)"
   ]
  },
  {
   "cell_type": "code",
   "execution_count": 31,
   "metadata": {
    "collapsed": false
   },
   "outputs": [
    {
     "data": {
      "text/plain": [
       "105596"
      ]
     },
     "execution_count": 31,
     "metadata": {},
     "output_type": "execute_result"
    }
   ],
   "source": [
    "## Construct a trimmed index dict from it\n",
    "# movie_index_dict_trimmed = dict((y,x) for x, y in movie_index_dict_trimmed.iteritems())\n",
    "len(movie_index_dict_trimmed)"
   ]
  },
  {
   "cell_type": "code",
   "execution_count": 32,
   "metadata": {
    "collapsed": false
   },
   "outputs": [
    {
     "name": "stdout",
     "output_type": "stream",
     "text": [
      "('Actor length:', 105596)\n",
      "('Actor length:', 1997378)\n",
      "('Actor length after dropping duplicates:', 108912)\n"
     ]
    }
   ],
   "source": [
    "# Rework\n",
    "# Additional Section\n",
    "# Also trim actor_list so as to speed up edge_list\n",
    "# Instead of using original dict, construct a \n",
    "# actor_trimmed_dict from movie_trimmed_dict\n",
    "actor_movie_dict_int_int_trimmed = {}\n",
    "actor_list = movie_actor_dict_int_int_trimmed.values()\n",
    "print('Actor length:',  len(actor_list))\n",
    "\n",
    "# drop duplicates\n",
    "flatten = lambda x: [item for sublist in x for item in sublist]\n",
    "actor_list = flatten(actor_list)\n",
    "print('Actor length:', len(actor_list))\n",
    "\n",
    "def drop_duplicates(seq):\n",
    "    keys = {}\n",
    "    for e in seq:\n",
    "        keys[e] = 1\n",
    "    return keys.keys()\n",
    "actor_list = drop_duplicates(actor_list)\n",
    "print('Actor length after dropping duplicates:', len(actor_list))"
   ]
  },
  {
   "cell_type": "code",
   "execution_count": 81,
   "metadata": {
    "collapsed": true
   },
   "outputs": [],
   "source": [
    "for actor in actor_list:\n",
    "    actor_movie_dict_int_int_trimmed.update({actor: []})\n",
    "    \n",
    "for key, values in movie_actor_dict_int_int_trimmed.items():\n",
    "    for value in values:\n",
    "        actor_movie_dict_int_int_trimmed[value].append(key)"
   ]
  },
  {
   "cell_type": "code",
   "execution_count": 86,
   "metadata": {
    "collapsed": true
   },
   "outputs": [],
   "source": [
    "write_to_file('trimmed_special/actor_movie_dict_int_int_trimmed.csv', actor_movie_dict_int_int_trimmed)"
   ]
  },
  {
   "cell_type": "code",
   "execution_count": 83,
   "metadata": {
    "collapsed": true
   },
   "outputs": [],
   "source": [
    "actor_index_dict_reversed = dict((y,x) for x, y in actor_index_dict.iteritems())\n",
    "actor_index_dict_trimmed = {}\n",
    "for actor in actor_movie_dict_int_int_trimmed.keys():\n",
    "    actor_index_dict_trimmed.update({actor_index_dict_reversed[actor]: actor})"
   ]
  },
  {
   "cell_type": "code",
   "execution_count": 84,
   "metadata": {
    "collapsed": false
   },
   "outputs": [
    {
     "name": "stdout",
     "output_type": "stream",
     "text": [
      "100707\n",
      "100707\n"
     ]
    }
   ],
   "source": [
    "print (len(actor_movie_dict_int_int_trimmed))\n",
    "print (len(actor_index_dict_trimmed))"
   ]
  },
  {
   "cell_type": "code",
   "execution_count": 85,
   "metadata": {
    "collapsed": true
   },
   "outputs": [],
   "source": [
    "write_to_file(\"trimmed_special/actor_index_dict_trimmed.csv\", actor_index_dict_trimmed)"
   ]
  },
  {
   "cell_type": "code",
   "execution_count": null,
   "metadata": {
    "collapsed": true
   },
   "outputs": [],
   "source": []
  }
 ],
 "metadata": {
  "kernelspec": {
   "display_name": "Python 2",
   "language": "python",
   "name": "python2"
  },
  "language_info": {
   "codemirror_mode": {
    "name": "ipython",
    "version": 2
   },
   "file_extension": ".py",
   "mimetype": "text/x-python",
   "name": "python",
   "nbconvert_exporter": "python",
   "pygments_lexer": "ipython2",
   "version": "2.7.13"
  }
 },
 "nbformat": 4,
 "nbformat_minor": 2
}
